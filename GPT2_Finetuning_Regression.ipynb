{
  "nbformat": 4,
  "nbformat_minor": 0,
  "metadata": {
    "colab": {
      "provenance": [],
      "gpuType": "V100",
      "authorship_tag": "ABX9TyNJlqg9z0jJjvFeTh1KSu4P",
      "include_colab_link": true
    },
    "kernelspec": {
      "name": "python3",
      "display_name": "Python 3"
    },
    "language_info": {
      "name": "python"
    },
    "accelerator": "GPU"
  },
  "cells": [
    {
      "cell_type": "markdown",
      "metadata": {
        "id": "view-in-github",
        "colab_type": "text"
      },
      "source": [
        "<a href=\"https://colab.research.google.com/github/Mehulsoni26/Uncertainty_Quantification_LLMs/blob/main/GPT2_Finetuning_Regression.ipynb\" target=\"_parent\"><img src=\"https://colab.research.google.com/assets/colab-badge.svg\" alt=\"Open In Colab\"/></a>"
      ]
    },
    {
      "cell_type": "code",
      "execution_count": 1,
      "metadata": {
        "colab": {
          "base_uri": "https://localhost:8080/"
        },
        "id": "HOz5GcPXJf2L",
        "outputId": "6f61f78d-1ee7-4844-80e3-61bf17271fed"
      },
      "outputs": [
        {
          "output_type": "stream",
          "name": "stdout",
          "text": [
            "Mounted at /content/drive\n"
          ]
        }
      ],
      "source": [
        "from google.colab import drive\n",
        "drive.mount('/content/drive', force_remount = True)"
      ]
    },
    {
      "cell_type": "code",
      "source": [
        "import os\n",
        "dir_path = '/content/drive/MyDrive/Uncertainty_Quantification_LLMs'\n",
        "os.chdir(dir_path)"
      ],
      "metadata": {
        "id": "f1dkODy2KUGG"
      },
      "execution_count": 2,
      "outputs": []
    },
    {
      "cell_type": "code",
      "source": [
        "%%capture\n",
        "!pip install -q -U bitsandbytes\n",
        "!pip install -q -U git+https://github.com/huggingface/transformers.git\n",
        "!pip install -q -U git+https://github.com/huggingface/peft.git\n",
        "!pip install -q -U git+https://github.com/huggingface/accelerate.git\n",
        "!pip install -q datasets\n",
        "!pip install evaluate\n",
        "!pip install -qqq trl==0.7.1\n",
        "!pip install torch"
      ],
      "metadata": {
        "id": "OQI63abVKsaY"
      },
      "execution_count": 3,
      "outputs": []
    },
    {
      "cell_type": "code",
      "source": [
        "import torch\n",
        "import gc\n",
        "import time\n",
        "import evaluate\n",
        "import pandas as pd\n",
        "import numpy as np\n",
        "import scipy.stats as stats\n",
        "import matplotlib.pyplot as plt\n",
        "import seaborn as sns\n",
        "from datasets import Dataset, load_dataset\n",
        "import random\n",
        "from transformers import AutoTokenizer, AutoModelForCausalLM, BitsAndBytesConfig"
      ],
      "metadata": {
        "id": "KhB3_-QcKz7f"
      },
      "execution_count": 4,
      "outputs": []
    },
    {
      "cell_type": "code",
      "source": [
        "df_stress_index_hf_prompt=pd.read_csv('./Data/df_stress_index_hf_prompt.csv',index_col=False)"
      ],
      "metadata": {
        "id": "QssIby76K8YC"
      },
      "execution_count": 5,
      "outputs": []
    },
    {
      "cell_type": "code",
      "source": [
        "df_stress_index_hf_prompt"
      ],
      "metadata": {
        "id": "KX55lrdLLztj"
      },
      "execution_count": null,
      "outputs": []
    },
    {
      "cell_type": "code",
      "source": [
        "# Load model directly\n",
        "from transformers import AutoTokenizer, AutoModelForCausalLM\n",
        "\n",
        "gpt2_tokenizer = AutoTokenizer.from_pretrained(\"openai-community/gpt2\", add_eos_token=False)\n",
        "gpt_model = AutoModelForCausalLM.from_pretrained(\"openai-community/gpt2\")"
      ],
      "metadata": {
        "id": "-FLjeKrMLzrL"
      },
      "execution_count": 46,
      "outputs": []
    },
    {
      "cell_type": "code",
      "source": [
        "df_stress_index_hf_prompt.head()"
      ],
      "metadata": {
        "id": "M0fio9p5MzYf",
        "colab": {
          "base_uri": "https://localhost:8080/",
          "height": 400
        },
        "outputId": "9d0d7e70-d4f0-47de-b4c5-8192a0793443"
      },
      "execution_count": 8,
      "outputs": [
        {
          "output_type": "execute_result",
          "data": {
            "text/plain": [
              "   news_sentiment  broker_count_imbalance  volume_indicator  \\\n",
              "0        0.393144                0.124362          0.677889   \n",
              "1        0.772496                0.369376         -0.877238   \n",
              "2       -0.189353                0.190013         -0.485352   \n",
              "3        0.219090               -0.577930          0.876170   \n",
              "4        0.038766                0.474529          0.345526   \n",
              "\n",
              "   benchmark_price_difference  trade_count_imbalance  \\\n",
              "0                    0.497776              -0.720698   \n",
              "1                    0.139748               0.851864   \n",
              "2                   -0.364914              -0.183833   \n",
              "3                    0.495462               0.182495   \n",
              "4                   -0.153370              -0.020692   \n",
              "\n",
              "   one_sided_trade_indicator  tranche_size_indicator  stress_index  \\\n",
              "0                  -0.680076                0.724869      0.551515   \n",
              "1                  -0.257519                0.586063      0.623805   \n",
              "2                  -0.235899                0.356616      0.305677   \n",
              "3                   0.094340                0.106455      0.599768   \n",
              "4                   0.238055                0.432594      0.594587   \n",
              "\n",
              "  stress_index_bucket                                         row_prompt  \\\n",
              "0             0.5-0.6  ###Instruction:\\nYou are fixed income corporat...   \n",
              "1             0.6-0.7  ###Instruction:\\nYou are fixed income corporat...   \n",
              "2             0.3-0.4  ###Instruction:\\nYou are fixed income corporat...   \n",
              "3             0.5-0.6  ###Instruction:\\nYou are fixed income corporat...   \n",
              "4             0.5-0.6  ###Instruction:\\nYou are fixed income corporat...   \n",
              "\n",
              "  answer_label  \n",
              "0            H  \n",
              "1            D  \n",
              "2            F  \n",
              "3            F  \n",
              "4            I  "
            ],
            "text/html": [
              "\n",
              "  <div id=\"df-f0b06986-d7ed-4145-aef1-e4bfaca851e0\" class=\"colab-df-container\">\n",
              "    <div>\n",
              "<style scoped>\n",
              "    .dataframe tbody tr th:only-of-type {\n",
              "        vertical-align: middle;\n",
              "    }\n",
              "\n",
              "    .dataframe tbody tr th {\n",
              "        vertical-align: top;\n",
              "    }\n",
              "\n",
              "    .dataframe thead th {\n",
              "        text-align: right;\n",
              "    }\n",
              "</style>\n",
              "<table border=\"1\" class=\"dataframe\">\n",
              "  <thead>\n",
              "    <tr style=\"text-align: right;\">\n",
              "      <th></th>\n",
              "      <th>news_sentiment</th>\n",
              "      <th>broker_count_imbalance</th>\n",
              "      <th>volume_indicator</th>\n",
              "      <th>benchmark_price_difference</th>\n",
              "      <th>trade_count_imbalance</th>\n",
              "      <th>one_sided_trade_indicator</th>\n",
              "      <th>tranche_size_indicator</th>\n",
              "      <th>stress_index</th>\n",
              "      <th>stress_index_bucket</th>\n",
              "      <th>row_prompt</th>\n",
              "      <th>answer_label</th>\n",
              "    </tr>\n",
              "  </thead>\n",
              "  <tbody>\n",
              "    <tr>\n",
              "      <th>0</th>\n",
              "      <td>0.393144</td>\n",
              "      <td>0.124362</td>\n",
              "      <td>0.677889</td>\n",
              "      <td>0.497776</td>\n",
              "      <td>-0.720698</td>\n",
              "      <td>-0.680076</td>\n",
              "      <td>0.724869</td>\n",
              "      <td>0.551515</td>\n",
              "      <td>0.5-0.6</td>\n",
              "      <td>###Instruction:\\nYou are fixed income corporat...</td>\n",
              "      <td>H</td>\n",
              "    </tr>\n",
              "    <tr>\n",
              "      <th>1</th>\n",
              "      <td>0.772496</td>\n",
              "      <td>0.369376</td>\n",
              "      <td>-0.877238</td>\n",
              "      <td>0.139748</td>\n",
              "      <td>0.851864</td>\n",
              "      <td>-0.257519</td>\n",
              "      <td>0.586063</td>\n",
              "      <td>0.623805</td>\n",
              "      <td>0.6-0.7</td>\n",
              "      <td>###Instruction:\\nYou are fixed income corporat...</td>\n",
              "      <td>D</td>\n",
              "    </tr>\n",
              "    <tr>\n",
              "      <th>2</th>\n",
              "      <td>-0.189353</td>\n",
              "      <td>0.190013</td>\n",
              "      <td>-0.485352</td>\n",
              "      <td>-0.364914</td>\n",
              "      <td>-0.183833</td>\n",
              "      <td>-0.235899</td>\n",
              "      <td>0.356616</td>\n",
              "      <td>0.305677</td>\n",
              "      <td>0.3-0.4</td>\n",
              "      <td>###Instruction:\\nYou are fixed income corporat...</td>\n",
              "      <td>F</td>\n",
              "    </tr>\n",
              "    <tr>\n",
              "      <th>3</th>\n",
              "      <td>0.219090</td>\n",
              "      <td>-0.577930</td>\n",
              "      <td>0.876170</td>\n",
              "      <td>0.495462</td>\n",
              "      <td>0.182495</td>\n",
              "      <td>0.094340</td>\n",
              "      <td>0.106455</td>\n",
              "      <td>0.599768</td>\n",
              "      <td>0.5-0.6</td>\n",
              "      <td>###Instruction:\\nYou are fixed income corporat...</td>\n",
              "      <td>F</td>\n",
              "    </tr>\n",
              "    <tr>\n",
              "      <th>4</th>\n",
              "      <td>0.038766</td>\n",
              "      <td>0.474529</td>\n",
              "      <td>0.345526</td>\n",
              "      <td>-0.153370</td>\n",
              "      <td>-0.020692</td>\n",
              "      <td>0.238055</td>\n",
              "      <td>0.432594</td>\n",
              "      <td>0.594587</td>\n",
              "      <td>0.5-0.6</td>\n",
              "      <td>###Instruction:\\nYou are fixed income corporat...</td>\n",
              "      <td>I</td>\n",
              "    </tr>\n",
              "  </tbody>\n",
              "</table>\n",
              "</div>\n",
              "    <div class=\"colab-df-buttons\">\n",
              "\n",
              "  <div class=\"colab-df-container\">\n",
              "    <button class=\"colab-df-convert\" onclick=\"convertToInteractive('df-f0b06986-d7ed-4145-aef1-e4bfaca851e0')\"\n",
              "            title=\"Convert this dataframe to an interactive table.\"\n",
              "            style=\"display:none;\">\n",
              "\n",
              "  <svg xmlns=\"http://www.w3.org/2000/svg\" height=\"24px\" viewBox=\"0 -960 960 960\">\n",
              "    <path d=\"M120-120v-720h720v720H120Zm60-500h600v-160H180v160Zm220 220h160v-160H400v160Zm0 220h160v-160H400v160ZM180-400h160v-160H180v160Zm440 0h160v-160H620v160ZM180-180h160v-160H180v160Zm440 0h160v-160H620v160Z\"/>\n",
              "  </svg>\n",
              "    </button>\n",
              "\n",
              "  <style>\n",
              "    .colab-df-container {\n",
              "      display:flex;\n",
              "      gap: 12px;\n",
              "    }\n",
              "\n",
              "    .colab-df-convert {\n",
              "      background-color: #E8F0FE;\n",
              "      border: none;\n",
              "      border-radius: 50%;\n",
              "      cursor: pointer;\n",
              "      display: none;\n",
              "      fill: #1967D2;\n",
              "      height: 32px;\n",
              "      padding: 0 0 0 0;\n",
              "      width: 32px;\n",
              "    }\n",
              "\n",
              "    .colab-df-convert:hover {\n",
              "      background-color: #E2EBFA;\n",
              "      box-shadow: 0px 1px 2px rgba(60, 64, 67, 0.3), 0px 1px 3px 1px rgba(60, 64, 67, 0.15);\n",
              "      fill: #174EA6;\n",
              "    }\n",
              "\n",
              "    .colab-df-buttons div {\n",
              "      margin-bottom: 4px;\n",
              "    }\n",
              "\n",
              "    [theme=dark] .colab-df-convert {\n",
              "      background-color: #3B4455;\n",
              "      fill: #D2E3FC;\n",
              "    }\n",
              "\n",
              "    [theme=dark] .colab-df-convert:hover {\n",
              "      background-color: #434B5C;\n",
              "      box-shadow: 0px 1px 3px 1px rgba(0, 0, 0, 0.15);\n",
              "      filter: drop-shadow(0px 1px 2px rgba(0, 0, 0, 0.3));\n",
              "      fill: #FFFFFF;\n",
              "    }\n",
              "  </style>\n",
              "\n",
              "    <script>\n",
              "      const buttonEl =\n",
              "        document.querySelector('#df-f0b06986-d7ed-4145-aef1-e4bfaca851e0 button.colab-df-convert');\n",
              "      buttonEl.style.display =\n",
              "        google.colab.kernel.accessAllowed ? 'block' : 'none';\n",
              "\n",
              "      async function convertToInteractive(key) {\n",
              "        const element = document.querySelector('#df-f0b06986-d7ed-4145-aef1-e4bfaca851e0');\n",
              "        const dataTable =\n",
              "          await google.colab.kernel.invokeFunction('convertToInteractive',\n",
              "                                                    [key], {});\n",
              "        if (!dataTable) return;\n",
              "\n",
              "        const docLinkHtml = 'Like what you see? Visit the ' +\n",
              "          '<a target=\"_blank\" href=https://colab.research.google.com/notebooks/data_table.ipynb>data table notebook</a>'\n",
              "          + ' to learn more about interactive tables.';\n",
              "        element.innerHTML = '';\n",
              "        dataTable['output_type'] = 'display_data';\n",
              "        await google.colab.output.renderOutput(dataTable, element);\n",
              "        const docLink = document.createElement('div');\n",
              "        docLink.innerHTML = docLinkHtml;\n",
              "        element.appendChild(docLink);\n",
              "      }\n",
              "    </script>\n",
              "  </div>\n",
              "\n",
              "\n",
              "<div id=\"df-55c856da-5a01-4818-becf-e420fdbe15c4\">\n",
              "  <button class=\"colab-df-quickchart\" onclick=\"quickchart('df-55c856da-5a01-4818-becf-e420fdbe15c4')\"\n",
              "            title=\"Suggest charts\"\n",
              "            style=\"display:none;\">\n",
              "\n",
              "<svg xmlns=\"http://www.w3.org/2000/svg\" height=\"24px\"viewBox=\"0 0 24 24\"\n",
              "     width=\"24px\">\n",
              "    <g>\n",
              "        <path d=\"M19 3H5c-1.1 0-2 .9-2 2v14c0 1.1.9 2 2 2h14c1.1 0 2-.9 2-2V5c0-1.1-.9-2-2-2zM9 17H7v-7h2v7zm4 0h-2V7h2v10zm4 0h-2v-4h2v4z\"/>\n",
              "    </g>\n",
              "</svg>\n",
              "  </button>\n",
              "\n",
              "<style>\n",
              "  .colab-df-quickchart {\n",
              "      --bg-color: #E8F0FE;\n",
              "      --fill-color: #1967D2;\n",
              "      --hover-bg-color: #E2EBFA;\n",
              "      --hover-fill-color: #174EA6;\n",
              "      --disabled-fill-color: #AAA;\n",
              "      --disabled-bg-color: #DDD;\n",
              "  }\n",
              "\n",
              "  [theme=dark] .colab-df-quickchart {\n",
              "      --bg-color: #3B4455;\n",
              "      --fill-color: #D2E3FC;\n",
              "      --hover-bg-color: #434B5C;\n",
              "      --hover-fill-color: #FFFFFF;\n",
              "      --disabled-bg-color: #3B4455;\n",
              "      --disabled-fill-color: #666;\n",
              "  }\n",
              "\n",
              "  .colab-df-quickchart {\n",
              "    background-color: var(--bg-color);\n",
              "    border: none;\n",
              "    border-radius: 50%;\n",
              "    cursor: pointer;\n",
              "    display: none;\n",
              "    fill: var(--fill-color);\n",
              "    height: 32px;\n",
              "    padding: 0;\n",
              "    width: 32px;\n",
              "  }\n",
              "\n",
              "  .colab-df-quickchart:hover {\n",
              "    background-color: var(--hover-bg-color);\n",
              "    box-shadow: 0 1px 2px rgba(60, 64, 67, 0.3), 0 1px 3px 1px rgba(60, 64, 67, 0.15);\n",
              "    fill: var(--button-hover-fill-color);\n",
              "  }\n",
              "\n",
              "  .colab-df-quickchart-complete:disabled,\n",
              "  .colab-df-quickchart-complete:disabled:hover {\n",
              "    background-color: var(--disabled-bg-color);\n",
              "    fill: var(--disabled-fill-color);\n",
              "    box-shadow: none;\n",
              "  }\n",
              "\n",
              "  .colab-df-spinner {\n",
              "    border: 2px solid var(--fill-color);\n",
              "    border-color: transparent;\n",
              "    border-bottom-color: var(--fill-color);\n",
              "    animation:\n",
              "      spin 1s steps(1) infinite;\n",
              "  }\n",
              "\n",
              "  @keyframes spin {\n",
              "    0% {\n",
              "      border-color: transparent;\n",
              "      border-bottom-color: var(--fill-color);\n",
              "      border-left-color: var(--fill-color);\n",
              "    }\n",
              "    20% {\n",
              "      border-color: transparent;\n",
              "      border-left-color: var(--fill-color);\n",
              "      border-top-color: var(--fill-color);\n",
              "    }\n",
              "    30% {\n",
              "      border-color: transparent;\n",
              "      border-left-color: var(--fill-color);\n",
              "      border-top-color: var(--fill-color);\n",
              "      border-right-color: var(--fill-color);\n",
              "    }\n",
              "    40% {\n",
              "      border-color: transparent;\n",
              "      border-right-color: var(--fill-color);\n",
              "      border-top-color: var(--fill-color);\n",
              "    }\n",
              "    60% {\n",
              "      border-color: transparent;\n",
              "      border-right-color: var(--fill-color);\n",
              "    }\n",
              "    80% {\n",
              "      border-color: transparent;\n",
              "      border-right-color: var(--fill-color);\n",
              "      border-bottom-color: var(--fill-color);\n",
              "    }\n",
              "    90% {\n",
              "      border-color: transparent;\n",
              "      border-bottom-color: var(--fill-color);\n",
              "    }\n",
              "  }\n",
              "</style>\n",
              "\n",
              "  <script>\n",
              "    async function quickchart(key) {\n",
              "      const quickchartButtonEl =\n",
              "        document.querySelector('#' + key + ' button');\n",
              "      quickchartButtonEl.disabled = true;  // To prevent multiple clicks.\n",
              "      quickchartButtonEl.classList.add('colab-df-spinner');\n",
              "      try {\n",
              "        const charts = await google.colab.kernel.invokeFunction(\n",
              "            'suggestCharts', [key], {});\n",
              "      } catch (error) {\n",
              "        console.error('Error during call to suggestCharts:', error);\n",
              "      }\n",
              "      quickchartButtonEl.classList.remove('colab-df-spinner');\n",
              "      quickchartButtonEl.classList.add('colab-df-quickchart-complete');\n",
              "    }\n",
              "    (() => {\n",
              "      let quickchartButtonEl =\n",
              "        document.querySelector('#df-55c856da-5a01-4818-becf-e420fdbe15c4 button');\n",
              "      quickchartButtonEl.style.display =\n",
              "        google.colab.kernel.accessAllowed ? 'block' : 'none';\n",
              "    })();\n",
              "  </script>\n",
              "</div>\n",
              "\n",
              "    </div>\n",
              "  </div>\n"
            ],
            "application/vnd.google.colaboratory.intrinsic+json": {
              "type": "dataframe",
              "variable_name": "df_stress_index_hf_prompt",
              "summary": "{\n  \"name\": \"df_stress_index_hf_prompt\",\n  \"rows\": 5000,\n  \"fields\": [\n    {\n      \"column\": \"news_sentiment\",\n      \"properties\": {\n        \"dtype\": \"number\",\n        \"std\": 0.4479666648490416,\n        \"min\": -0.9900856413660544,\n        \"max\": 0.9721617617689164,\n        \"num_unique_values\": 5000,\n        \"samples\": [\n          -0.9240495443440928,\n          0.3423223065430547,\n          0.2478547680390819\n        ],\n        \"semantic_type\": \"\",\n        \"description\": \"\"\n      }\n    },\n    {\n      \"column\": \"broker_count_imbalance\",\n      \"properties\": {\n        \"dtype\": \"number\",\n        \"std\": 0.4456179958629164,\n        \"min\": -0.9900983084458927,\n        \"max\": 0.9926217123364832,\n        \"num_unique_values\": 5000,\n        \"samples\": [\n          -0.5695074645304654,\n          -0.5086902058475478,\n          -0.7265046528131028\n        ],\n        \"semantic_type\": \"\",\n        \"description\": \"\"\n      }\n    },\n    {\n      \"column\": \"volume_indicator\",\n      \"properties\": {\n        \"dtype\": \"number\",\n        \"std\": 0.44536480893570995,\n        \"min\": -0.9949577834366368,\n        \"max\": 0.9927989597675088,\n        \"num_unique_values\": 5000,\n        \"samples\": [\n          0.336122741771734,\n          0.4972247127227887,\n          0.6754089586685796\n        ],\n        \"semantic_type\": \"\",\n        \"description\": \"\"\n      }\n    },\n    {\n      \"column\": \"benchmark_price_difference\",\n      \"properties\": {\n        \"dtype\": \"number\",\n        \"std\": 0.4449890203052839,\n        \"min\": -0.9846295818931284,\n        \"max\": 0.9890038308421868,\n        \"num_unique_values\": 5000,\n        \"samples\": [\n          0.5342749461057781,\n          0.2755108515597488,\n          -0.2933221192109618\n        ],\n        \"semantic_type\": \"\",\n        \"description\": \"\"\n      }\n    },\n    {\n      \"column\": \"trade_count_imbalance\",\n      \"properties\": {\n        \"dtype\": \"number\",\n        \"std\": 0.43776363717987066,\n        \"min\": -0.9899692399868412,\n        \"max\": 0.995577453767932,\n        \"num_unique_values\": 5000,\n        \"samples\": [\n          -0.4761528385684729,\n          0.5439643976241835,\n          0.3220812865684113\n        ],\n        \"semantic_type\": \"\",\n        \"description\": \"\"\n      }\n    },\n    {\n      \"column\": \"one_sided_trade_indicator\",\n      \"properties\": {\n        \"dtype\": \"number\",\n        \"std\": 0.4446270996608774,\n        \"min\": -0.9790715950225672,\n        \"max\": 0.9736488982455505,\n        \"num_unique_values\": 5000,\n        \"samples\": [\n          -0.3986096041674686,\n          -0.0054874017398282,\n          0.7323531987677823\n        ],\n        \"semantic_type\": \"\",\n        \"description\": \"\"\n      }\n    },\n    {\n      \"column\": \"tranche_size_indicator\",\n      \"properties\": {\n        \"dtype\": \"number\",\n        \"std\": 0.22345615028049362,\n        \"min\": 0.0107531634926119,\n        \"max\": 0.997207453303847,\n        \"num_unique_values\": 5000,\n        \"samples\": [\n          0.5586935841507646,\n          0.3301318419206263,\n          0.6498030603787914\n        ],\n        \"semantic_type\": \"\",\n        \"description\": \"\"\n      }\n    },\n    {\n      \"column\": \"stress_index\",\n      \"properties\": {\n        \"dtype\": \"number\",\n        \"std\": 0.1424351456033087,\n        \"min\": 0.0,\n        \"max\": 1.0,\n        \"num_unique_values\": 5000,\n        \"samples\": [\n          0.3023011689864318,\n          0.6098173768097939,\n          0.6267201627709701\n        ],\n        \"semantic_type\": \"\",\n        \"description\": \"\"\n      }\n    },\n    {\n      \"column\": \"stress_index_bucket\",\n      \"properties\": {\n        \"dtype\": \"category\",\n        \"num_unique_values\": 10,\n        \"samples\": [\n          \"0.0-0.1\",\n          \"0.6-0.7\",\n          \"0.4-0.5\"\n        ],\n        \"semantic_type\": \"\",\n        \"description\": \"\"\n      }\n    },\n    {\n      \"column\": \"row_prompt\",\n      \"properties\": {\n        \"dtype\": \"string\",\n        \"num_unique_values\": 5000,\n        \"samples\": [\n          \"###Instruction:\\nYou are fixed income corporate bond trader. Use the feature values that I will provide and select the correct option for classifying the stress index (range of 0 to 1) into one of the defined buckets.\\nFeature descriptions:\\n- news_sentiment: Scale from -1 (negative) to +1 (positive) reflecting the sentiment in news about the bond issuer over the past 7 days.\\n- broker_count_imbalance: Difference in broker count buying or selling the same security in the last 2 days, ranging from -1 (more selling) to +1 (more buying).\\n- volume_indicator: Indicates if a bond is heavily traded in the last 2 days, with -1 for high selling volume and +1 for high buying volume.\\n- benchmark_price_difference: Compares a bond's quoted price to the benchmark, ranging from -1 (below benchmark) to +1 (above benchmark), indicating price stress.\\n- trade_count_imbalance: Difference in buy and sell trades of a security over 2 days, from -1 (more sells) to +1 (more buys).\\n- one_sided_trade_indicator: Imbalance in buy or sell trades over 7 days, with -1 for predominantly sell trades and +1 for buy trades.\\n- tranche_size_indicator: Assesses bond stress by the direction of trades and tranche size, ranging from 0 (large tranche) to 1 (small tranche).\\n\\n###Question:\\nGiven the feature value dict as:\\n{'news_sentiment': 0.3931444486731639, 'broker_count_imbalance': 0.1243619871996783, 'volume_indicator': 0.6778892697073087, 'benchmark_price_difference': 0.4977762417709135, 'trade_count_imbalance': -0.7206982745760815, 'one_sided_trade_indicator': -0.6800763028141159, 'tranche_size_indicator': 0.7248691201811168}\\nReturn the correct option for classifying stress index from the following options based on above features. Do not generate anything else apart from the option.\\n(A) 0.0-0.1\\n(B) 0.7-0.8\\n(C) 0.2-0.3\\n(D) 0.8-0.9\\n(E) 0.9-1.0\\n(F) 0.1-0.2\\n(G) 0.3-0.4\\n(H) 0.5-0.6\\n(I) 0.6-0.7\\n(J) 0.4-0.5\\n\\n###Answer:\\nH\\n###Question:\\nGiven the feature value dict as:\\n{'news_sentiment': -0.9240495443440928, 'broker_count_imbalance': -0.5695074645304654, 'volume_indicator': 0.336122741771734, 'benchmark_price_difference': 0.5342749461057781, 'trade_count_imbalance': -0.4761528385684729, 'one_sided_trade_indicator': -0.3986096041674686, 'tranche_size_indicator': 0.5586935841507646}\\nReturn the correct option for classifying stress index from the following options based on above features. Do not generate anything else apart from the option.\\n(A) 0.4-0.5\\n(B) 0.1-0.2\\n(C) 0.5-0.6\\n(D) 0.7-0.8\\n(E) 0.2-0.3\\n(F) 0.9-1.0\\n(G) 0.3-0.4\\n(H) 0.6-0.7\\n(I) 0.0-0.1\\n(J) 0.8-0.9\\n\\n###Answer:\\n\",\n          \"###Instruction:\\nYou are fixed income corporate bond trader. Use the feature values that I will provide and select the correct option for classifying the stress index (range of 0 to 1) into one of the defined buckets.\\nFeature descriptions:\\n- news_sentiment: Scale from -1 (negative) to +1 (positive) reflecting the sentiment in news about the bond issuer over the past 7 days.\\n- broker_count_imbalance: Difference in broker count buying or selling the same security in the last 2 days, ranging from -1 (more selling) to +1 (more buying).\\n- volume_indicator: Indicates if a bond is heavily traded in the last 2 days, with -1 for high selling volume and +1 for high buying volume.\\n- benchmark_price_difference: Compares a bond's quoted price to the benchmark, ranging from -1 (below benchmark) to +1 (above benchmark), indicating price stress.\\n- trade_count_imbalance: Difference in buy and sell trades of a security over 2 days, from -1 (more sells) to +1 (more buys).\\n- one_sided_trade_indicator: Imbalance in buy or sell trades over 7 days, with -1 for predominantly sell trades and +1 for buy trades.\\n- tranche_size_indicator: Assesses bond stress by the direction of trades and tranche size, ranging from 0 (large tranche) to 1 (small tranche).\\n\\n###Question:\\nGiven the feature value dict as:\\n{'news_sentiment': 0.3931444486731639, 'broker_count_imbalance': 0.1243619871996783, 'volume_indicator': 0.6778892697073087, 'benchmark_price_difference': 0.4977762417709135, 'trade_count_imbalance': -0.7206982745760815, 'one_sided_trade_indicator': -0.6800763028141159, 'tranche_size_indicator': 0.7248691201811168}\\nReturn the correct option for classifying stress index from the following options based on above features. Do not generate anything else apart from the option.\\n(A) 0.0-0.1\\n(B) 0.7-0.8\\n(C) 0.2-0.3\\n(D) 0.8-0.9\\n(E) 0.9-1.0\\n(F) 0.1-0.2\\n(G) 0.3-0.4\\n(H) 0.5-0.6\\n(I) 0.6-0.7\\n(J) 0.4-0.5\\n\\n###Answer:\\nH\\n###Question:\\nGiven the feature value dict as:\\n{'news_sentiment': 0.3423223065430547, 'broker_count_imbalance': -0.5086902058475478, 'volume_indicator': 0.4972247127227887, 'benchmark_price_difference': 0.2755108515597488, 'trade_count_imbalance': 0.5439643976241835, 'one_sided_trade_indicator': -0.0054874017398282, 'tranche_size_indicator': 0.3301318419206263}\\nReturn the correct option for classifying stress index from the following options based on above features. Do not generate anything else apart from the option.\\n(A) 0.3-0.4\\n(B) 0.8-0.9\\n(C) 0.5-0.6\\n(D) 0.6-0.7\\n(E) 0.4-0.5\\n(F) 0.7-0.8\\n(G) 0.0-0.1\\n(H) 0.2-0.3\\n(I) 0.1-0.2\\n(J) 0.9-1.0\\n\\n###Answer:\\n\",\n          \"###Instruction:\\nYou are fixed income corporate bond trader. Use the feature values that I will provide and select the correct option for classifying the stress index (range of 0 to 1) into one of the defined buckets.\\nFeature descriptions:\\n- news_sentiment: Scale from -1 (negative) to +1 (positive) reflecting the sentiment in news about the bond issuer over the past 7 days.\\n- broker_count_imbalance: Difference in broker count buying or selling the same security in the last 2 days, ranging from -1 (more selling) to +1 (more buying).\\n- volume_indicator: Indicates if a bond is heavily traded in the last 2 days, with -1 for high selling volume and +1 for high buying volume.\\n- benchmark_price_difference: Compares a bond's quoted price to the benchmark, ranging from -1 (below benchmark) to +1 (above benchmark), indicating price stress.\\n- trade_count_imbalance: Difference in buy and sell trades of a security over 2 days, from -1 (more sells) to +1 (more buys).\\n- one_sided_trade_indicator: Imbalance in buy or sell trades over 7 days, with -1 for predominantly sell trades and +1 for buy trades.\\n- tranche_size_indicator: Assesses bond stress by the direction of trades and tranche size, ranging from 0 (large tranche) to 1 (small tranche).\\n\\n###Question:\\nGiven the feature value dict as:\\n{'news_sentiment': 0.3931444486731639, 'broker_count_imbalance': 0.1243619871996783, 'volume_indicator': 0.6778892697073087, 'benchmark_price_difference': 0.4977762417709135, 'trade_count_imbalance': -0.7206982745760815, 'one_sided_trade_indicator': -0.6800763028141159, 'tranche_size_indicator': 0.7248691201811168}\\nReturn the correct option for classifying stress index from the following options based on above features. Do not generate anything else apart from the option.\\n(A) 0.0-0.1\\n(B) 0.7-0.8\\n(C) 0.2-0.3\\n(D) 0.8-0.9\\n(E) 0.9-1.0\\n(F) 0.1-0.2\\n(G) 0.3-0.4\\n(H) 0.5-0.6\\n(I) 0.6-0.7\\n(J) 0.4-0.5\\n\\n###Answer:\\nH\\n###Question:\\nGiven the feature value dict as:\\n{'news_sentiment': 0.2478547680390819, 'broker_count_imbalance': -0.7265046528131028, 'volume_indicator': 0.6754089586685796, 'benchmark_price_difference': -0.2933221192109618, 'trade_count_imbalance': 0.3220812865684113, 'one_sided_trade_indicator': 0.7323531987677823, 'tranche_size_indicator': 0.6498030603787914}\\nReturn the correct option for classifying stress index from the following options based on above features. Do not generate anything else apart from the option.\\n(A) 0.6-0.7\\n(B) 0.1-0.2\\n(C) 0.8-0.9\\n(D) 0.9-1.0\\n(E) 0.2-0.3\\n(F) 0.5-0.6\\n(G) 0.7-0.8\\n(H) 0.0-0.1\\n(I) 0.3-0.4\\n(J) 0.4-0.5\\n\\n###Answer:\\n\"\n        ],\n        \"semantic_type\": \"\",\n        \"description\": \"\"\n      }\n    },\n    {\n      \"column\": \"answer_label\",\n      \"properties\": {\n        \"dtype\": \"category\",\n        \"num_unique_values\": 10,\n        \"samples\": [\n          \"A\",\n          \"D\",\n          \"C\"\n        ],\n        \"semantic_type\": \"\",\n        \"description\": \"\"\n      }\n    }\n  ]\n}"
            }
          },
          "metadata": {},
          "execution_count": 8
        }
      ]
    },
    {
      "cell_type": "code",
      "source": [
        "feature_cols=['news_sentiment', 'broker_count_imbalance', 'volume_indicator',\n",
        "       'benchmark_price_difference', 'trade_count_imbalance',\n",
        "       'one_sided_trade_indicator', 'tranche_size_indicator']\n",
        "stress_index_col ='stress_index'"
      ],
      "metadata": {
        "id": "CCID3JxyM936"
      },
      "execution_count": 9,
      "outputs": []
    },
    {
      "cell_type": "code",
      "source": [
        "df_stress_index_hf_prompt[feature_cols] = df_stress_index_hf_prompt[feature_cols].apply(lambda x: round(x,3))"
      ],
      "metadata": {
        "id": "9Y96-ev3Pxl5"
      },
      "execution_count": 10,
      "outputs": []
    },
    {
      "cell_type": "code",
      "source": [
        "df_stress_index_hf_prompt[stress_index_col] = df_stress_index_hf_prompt[stress_index_col].apply(lambda x: round(x,3))"
      ],
      "metadata": {
        "id": "35BHd8haji3i"
      },
      "execution_count": 36,
      "outputs": []
    },
    {
      "cell_type": "code",
      "source": [
        "def generate_prompt(row):\n",
        "  base_instruction = \"\"\"###Instruction:\n",
        "  You are fixed income corporate bond trader. Use the feature values that I will provide and select the correct option for classifying the stress index (range of 0 to 1) into one of the defined buckets.\n",
        "  Feature descriptions:\n",
        "  - news_sentiment: Scale from -1 (negative) to +1 (positive) reflecting the sentiment in news about the bond issuer over the past 7 days.\n",
        "  - broker_count_imbalance: Difference in broker count buying or selling the same security in the last 2 days, ranging from -1 (more selling) to +1 (more buying).\n",
        "  - volume_indicator: Indicates if a bond is heavily traded in the last 2 days, with -1 for high selling volume and +1 for high buying volume.\n",
        "  - benchmark_price_difference: Compares a bond's quoted price to the benchmark, ranging from -1 (below benchmark) to +1 (above benchmark), indicating price stress.\n",
        "  - trade_count_imbalance: Difference in buy and sell trades of a security over 2 days, from -1 (more sells) to +1 (more buys).\n",
        "  - one_sided_trade_indicator: Imbalance in buy or sell trades over 7 days, with -1 for predominantly sell trades and +1 for buy trades.\n",
        "  - tranche_size_indicator: Assesses bond stress by the direction of trades and tranche size, ranging from 0 (large tranche) to 1 (small tranche).\n",
        "  \"\"\"\n",
        "\n",
        "  base_instruction+=f'''\n",
        "  ###Input:\n",
        "  Given the feature value dict as:\n",
        "  {str(row[feature_cols].to_dict())}\n",
        "  Return the stress index value as a number between 0 and 1.\n",
        "  ###Response:\n",
        "  '''\n",
        "  return base_instruction"
      ],
      "metadata": {
        "id": "f3J3_FKRLzo2"
      },
      "execution_count": 11,
      "outputs": []
    },
    {
      "cell_type": "code",
      "source": [
        "print(df_stress_index_hf_prompt.head(5).apply(generate_prompt,axis=1)[0])"
      ],
      "metadata": {
        "colab": {
          "base_uri": "https://localhost:8080/"
        },
        "id": "4ZZaraqjLzmj",
        "outputId": "654c1137-6f26-42c4-d161-480046510e20"
      },
      "execution_count": 12,
      "outputs": [
        {
          "output_type": "stream",
          "name": "stdout",
          "text": [
            "###Instruction:\n",
            "  You are fixed income corporate bond trader. Use the feature values that I will provide and select the correct option for classifying the stress index (range of 0 to 1) into one of the defined buckets.\n",
            "  Feature descriptions:\n",
            "  - news_sentiment: Scale from -1 (negative) to +1 (positive) reflecting the sentiment in news about the bond issuer over the past 7 days.\n",
            "  - broker_count_imbalance: Difference in broker count buying or selling the same security in the last 2 days, ranging from -1 (more selling) to +1 (more buying).\n",
            "  - volume_indicator: Indicates if a bond is heavily traded in the last 2 days, with -1 for high selling volume and +1 for high buying volume.\n",
            "  - benchmark_price_difference: Compares a bond's quoted price to the benchmark, ranging from -1 (below benchmark) to +1 (above benchmark), indicating price stress.\n",
            "  - trade_count_imbalance: Difference in buy and sell trades of a security over 2 days, from -1 (more sells) to +1 (more buys).\n",
            "  - one_sided_trade_indicator: Imbalance in buy or sell trades over 7 days, with -1 for predominantly sell trades and +1 for buy trades.\n",
            "  - tranche_size_indicator: Assesses bond stress by the direction of trades and tranche size, ranging from 0 (large tranche) to 1 (small tranche).\n",
            "  \n",
            "  ###Input:\n",
            "  Given the feature value dict as:\n",
            "  {'news_sentiment': 0.393, 'broker_count_imbalance': 0.124, 'volume_indicator': 0.678, 'benchmark_price_difference': 0.498, 'trade_count_imbalance': -0.721, 'one_sided_trade_indicator': -0.68, 'tranche_size_indicator': 0.725}\n",
            "  Return the stress index value as a number between 0 and 1.\n",
            "  ###Response:\n",
            "  \n"
          ]
        }
      ]
    },
    {
      "cell_type": "code",
      "source": [
        "df_stress_index_hf_prompt['instruction_prompt_regression'] = df_stress_index_hf_prompt.apply(generate_prompt,axis=1)"
      ],
      "metadata": {
        "id": "ah02FbXqSdnY"
      },
      "execution_count": 13,
      "outputs": []
    },
    {
      "cell_type": "code",
      "source": [
        "len(gpt2_tokenizer.tokenize(df_stress_index_hf_prompt.head(5).apply(generate_prompt,axis=1)[0]))"
      ],
      "metadata": {
        "colab": {
          "base_uri": "https://localhost:8080/"
        },
        "id": "3NErpKNALzkM",
        "outputId": "83dca144-7393-4907-81e8-eacd08eb7eff"
      },
      "execution_count": 14,
      "outputs": [
        {
          "output_type": "execute_result",
          "data": {
            "text/plain": [
              "451"
            ]
          },
          "metadata": {},
          "execution_count": 14
        }
      ]
    },
    {
      "cell_type": "code",
      "source": [
        "from transformers import GPT2Model, GPT2Config\n",
        "\n",
        "# Load pre-trained model configuration\n",
        "model_name = 'gpt2-medium'  # You can choose from 'gpt2', 'gpt2-medium', 'gpt2-large', etc.\n",
        "config = GPT2Config.from_pretrained(model_name)\n",
        "\n",
        "# Load pre-trained model\n",
        "model = GPT2Model.from_pretrained(model_name, config=config)"
      ],
      "metadata": {
        "id": "MfNIj7D4Lzfc"
      },
      "execution_count": 15,
      "outputs": []
    },
    {
      "cell_type": "code",
      "source": [
        "import torch\n",
        "import torch.nn as nn\n",
        "\n",
        "class GPT2ForRegression(GPT2Model):\n",
        "    def __init__(self, config):\n",
        "        super().__init__(config)\n",
        "        # Add a new linear layer for regression\n",
        "        self.regression_head = nn.Linear(config.n_embd, 1)\n",
        "\n",
        "    def forward(self, input_ids, attention_mask=None):\n",
        "        outputs = super().forward(input_ids, attention_mask=attention_mask)\n",
        "        last_hidden_states = outputs.last_hidden_state\n",
        "        # Use the representation of the [CLS] token for regression\n",
        "        cls_representation = last_hidden_states[:, 0]\n",
        "        regression_output = self.regression_head(cls_representation)\n",
        "        return regression_output\n",
        "\n",
        "# Initialize the modified model\n",
        "model_for_regression = GPT2ForRegression(config)\n"
      ],
      "metadata": {
        "id": "Y5MBpu6gLzc0"
      },
      "execution_count": 16,
      "outputs": []
    },
    {
      "cell_type": "code",
      "source": [
        "def custom_loss_function(predictions, targets):\n",
        "    # Example: Mean Squared Error\n",
        "    mse_loss = nn.MSELoss()\n",
        "    return mse_loss(predictions, targets)"
      ],
      "metadata": {
        "id": "gLC5ZK_gLzX3"
      },
      "execution_count": 17,
      "outputs": []
    },
    {
      "cell_type": "code",
      "source": [
        "optimizer = torch.optim.Adam(model_for_regression.parameters(), lr=5e-5)"
      ],
      "metadata": {
        "id": "Y5Q50HbpLzVi"
      },
      "execution_count": 18,
      "outputs": []
    },
    {
      "cell_type": "code",
      "source": [
        "# Calculate the number of parameters\n",
        "num_parameters = sum(p.numel() for p in model_for_regression.parameters())\n",
        "\n",
        "print(f\"The model {model_name} has {num_parameters:,} tunable parameters.\")"
      ],
      "metadata": {
        "colab": {
          "base_uri": "https://localhost:8080/"
        },
        "id": "pzy0ftbgRaYu",
        "outputId": "1b52ce1b-05e7-415e-812d-0e69b8150795"
      },
      "execution_count": 19,
      "outputs": [
        {
          "output_type": "stream",
          "name": "stdout",
          "text": [
            "The model gpt2-medium has 354,824,193 tunable parameters.\n"
          ]
        }
      ]
    },
    {
      "cell_type": "code",
      "source": [
        "import torch\n",
        "from torch.utils.data import Dataset, DataLoader, random_split\n",
        "from transformers import GPT2Tokenizer\n",
        "\n",
        "class InstructionDataset(Dataset):\n",
        "    def __init__(self, encodings, labels):\n",
        "        \"\"\"\n",
        "        Initializes the dataset.\n",
        "        :param encodings: Tokenized instructions.\n",
        "        :param labels: Corresponding outputs for the instructions.\n",
        "        \"\"\"\n",
        "        self.encodings = encodings\n",
        "        self.labels = labels\n",
        "\n",
        "    def __getitem__(self, idx):\n",
        "        \"\"\"\n",
        "        Returns a single data point from the dataset.\n",
        "        \"\"\"\n",
        "        item = {key: torch.tensor(val[idx]) for key, val in self.encodings.items()}\n",
        "        item['labels'] = torch.tensor(self.labels[idx])\n",
        "        return item\n",
        "\n",
        "    def __len__(self):\n",
        "        \"\"\"\n",
        "        Returns the size of the dataset.\n",
        "        \"\"\"\n",
        "        return len(self.labels)\n",
        "\n",
        "# Example usage\n",
        "if __name__ == \"__main__\":\n",
        "    # Load your dataset (this is just a placeholder)\n",
        "    df_subset = df_stress_index_hf_prompt.head(500)\n",
        "    instructions = df_subset['instruction_prompt_regression'].tolist()\n",
        "    outputs = df_subset['stress_index'].tolist()\n",
        "\n",
        "    gpt2_tokenizer.pad_token = gpt2_tokenizer.eos_token\n",
        "    # Tokenize the instructions and outputs\n",
        "    encodings = gpt2_tokenizer(instructions, padding=True, truncation=True, return_tensors=\"pt\")\n",
        "    # labels = gpt2_tokenizer(outputs, padding=True, truncation=True, return_tensors=\"pt\")[\"input_ids\"]\n",
        "    labels = outputs\n",
        "\n",
        "    # Create the dataset\n",
        "    dataset = InstructionDataset(encodings, labels)\n",
        "\n",
        "    # Split the dataset into training and validation sets\n",
        "    train_size = int(0.8 * len(dataset))\n",
        "    val_size = len(dataset) - train_size\n",
        "\n",
        "    train_dataset, val_dataset = random_split(dataset, [train_size, val_size])\n",
        "\n",
        "    # Create the DataLoader\n",
        "    batch_size = 2\n",
        "    train_dataloader = DataLoader(train_dataset, batch_size=batch_size, shuffle=True, pin_memory = True)\n",
        "    val_dataloader = DataLoader(val_dataset, batch_size=batch_size, shuffle=False, pin_memory = True)\n",
        "\n"
      ],
      "metadata": {
        "id": "0CJu2LNBT-vU"
      },
      "execution_count": 60,
      "outputs": []
    },
    {
      "cell_type": "code",
      "source": [
        "device = torch.device(\"cuda\" if torch.cuda.is_available() else \"cpu\")\n",
        "# model_for_regression = model_for_regression.to(device)\n",
        "# gpt2_tokenizer = gpt2_tokenizer.to(device)"
      ],
      "metadata": {
        "id": "JFDmJvB-d_-V"
      },
      "execution_count": 61,
      "outputs": []
    },
    {
      "cell_type": "code",
      "source": [
        "device"
      ],
      "metadata": {
        "colab": {
          "base_uri": "https://localhost:8080/"
        },
        "id": "cNo-S1p8fQM7",
        "outputId": "35064ce7-095d-4b47-df96-7df9b0b84869"
      },
      "execution_count": 62,
      "outputs": [
        {
          "output_type": "execute_result",
          "data": {
            "text/plain": [
              "device(type='cuda')"
            ]
          },
          "metadata": {},
          "execution_count": 62
        }
      ]
    },
    {
      "cell_type": "code",
      "source": [
        "num_epochs = 2"
      ],
      "metadata": {
        "id": "3e1Sosb3UnWm"
      },
      "execution_count": 63,
      "outputs": []
    },
    {
      "cell_type": "code",
      "source": [
        "save_every_n_steps = 100\n",
        "save_every_n_epochs = 1\n"
      ],
      "metadata": {
        "id": "Yd6z2MYhbVBH"
      },
      "execution_count": 64,
      "outputs": []
    },
    {
      "cell_type": "code",
      "source": [
        "torch.cuda.empty_cache()"
      ],
      "metadata": {
        "id": "zsY0iKB8gvuZ"
      },
      "execution_count": 65,
      "outputs": []
    },
    {
      "cell_type": "code",
      "source": [
        "import torch\n",
        "from torch import nn, optim\n",
        "\n",
        "# Assuming the following are already defined:\n",
        "# model: an instance of a PyTorch neural network\n",
        "# criterion: loss function, e.g., nn.CrossEntropyLoss()\n",
        "# optimizer: optimization algorithm, e.g., optim.Adam(model.parameters(), lr=learning_rate)\n",
        "# train_loader: DataLoader for the training set\n",
        "# val_loader: DataLoader for the validation set\n",
        "# num_epochs: number of epochs to train for\n",
        "\n",
        "# Function to perform a training epoch\n",
        "def train_epoch(model, data_loader, criterion, optimizer):\n",
        "    model = model.to(device)\n",
        "    model.train()  # Set the model to training mode\n",
        "    total_loss = 0\n",
        "    global epoch, save_every_n_steps, save_every_n_epochs\n",
        "    for step, data in enumerate(data_loader):\n",
        "      inputs = data['input_ids']\n",
        "      labels = data['labels']\n",
        "\n",
        "      inputs = inputs.to(device)\n",
        "      labels = labels.to(device)\n",
        "      # Forward pass\n",
        "      outputs = model(inputs)\n",
        "      # print(outputs.size(), labels.size())\n",
        "      # loss = criterion(outputs, labels)\n",
        "      labels = labels.to(torch.float64)\n",
        "      outputs = outputs.to(torch.float64)\n",
        "      outputs = outputs.squeeze()\n",
        "      loss = custom_loss_function(outputs,labels)\n",
        "\n",
        "      # Backward pass and optimization\n",
        "      optimizer.zero_grad()\n",
        "      loss.backward()\n",
        "      optimizer.step()\n",
        "\n",
        "      # Accumulate loss\n",
        "      total_loss += loss.item()\n",
        "\n",
        "\n",
        "      if (step+1)%save_every_n_steps == 0:\n",
        "        checkpoint_filename = f\"train_checkpoint_epoch_{epoch+1}_step_{step+1}.pth.tar\"\n",
        "        save_checkpoint(model, optimizer, epoch+1, step+1, filename=checkpoint_filename)\n",
        "        logging.info(f\"Saved checkpoint to {checkpoint_filename} after step {step+1} of epoch {epoch+1}\")\n",
        "        logging.info(f'Epoch {epoch+1}/{num_epochs}, Step {step+1} - Training loss: {total_loss:.4f}')\n",
        "\n",
        "    return total_loss / len(data_loader)\n",
        "\n",
        "# Function to evaluate the model\n",
        "def evaluate(model, data_loader, criterion):\n",
        "    model = model.to(device)\n",
        "    model.eval()  # Set the model to evaluation mode\n",
        "    total_loss = 0\n",
        "    global epoch, save_every_n_steps, save_every_n_epochs\n",
        "    with torch.no_grad():  # Disable gradient calculation\n",
        "      for step, data in enumerate(data_loader):\n",
        "        inputs = data['input_ids']\n",
        "        labels = data['labels']\n",
        "\n",
        "        inputs = inputs.to(device)\n",
        "        labels = labels.to(device)\n",
        "\n",
        "        outputs = model(inputs)\n",
        "        labels = labels.to(torch.float64)\n",
        "        outputs = outputs.to(torch.float64)\n",
        "        # loss = criterion(outputs, labels)\n",
        "        outputs = outputs.squeeze()\n",
        "        loss = custom_loss_function(outputs,labels)\n",
        "\n",
        "        # Accumulate loss\n",
        "        total_loss += loss.item()\n",
        "\n",
        "        if (step+1)%save_every_n_steps == 0:\n",
        "          checkpoint_filename = f\"validation_checkpoint_epoch_{epoch+1}_step_{step+1}.pth.tar\"\n",
        "          save_checkpoint(model, optimizer, epoch+1, step+1, filename=checkpoint_filename)\n",
        "          logging.info(f\"Saved checkpoint to {checkpoint_filename} after step {step+1} of epoch {epoch+1}\")\n",
        "          logging.info(f'Epoch {epoch+1}/{num_epochs}, Step {step+1} - Validation loss: {total_loss:.4f}')\n",
        "    return total_loss / len(data_loader)\n"
      ],
      "metadata": {
        "id": "iMXpseRTW792"
      },
      "execution_count": 72,
      "outputs": []
    },
    {
      "cell_type": "code",
      "source": [
        "criterion = nn.MSELoss()"
      ],
      "metadata": {
        "id": "r8Kp95AAXMWw"
      },
      "execution_count": 73,
      "outputs": []
    },
    {
      "cell_type": "code",
      "source": [
        "import logging\n",
        "logging.basicConfig(level=logging.INFO, format='%(asctime)s - %(levelname)s - %(message)s', filename='./gpt2_training_log.log', filemode='w')"
      ],
      "metadata": {
        "id": "3-km1DNxYDgv"
      },
      "execution_count": 74,
      "outputs": []
    },
    {
      "cell_type": "code",
      "source": [
        "def save_checkpoint(model, optimizer, epoch, step, filename=\"checkpoint.pth.tar\"):\n",
        "    state = {\n",
        "        'epoch': epoch,\n",
        "        'step': step,\n",
        "        'state_dict': model.state_dict(),\n",
        "        'optimizer': optimizer.state_dict(),\n",
        "    }\n",
        "    torch.save(state, filename)"
      ],
      "metadata": {
        "id": "W9fG-sQ_Yk7C"
      },
      "execution_count": 75,
      "outputs": []
    },
    {
      "cell_type": "code",
      "source": [
        "\n",
        "# Training and evaluation loop\n",
        "for epoch in range(num_epochs):\n",
        "\n",
        "      # Train for one epoch\n",
        "      train_loss = train_epoch(model_for_regression, train_dataloader, criterion, optimizer)\n",
        "      print(f'Epoch {epoch+1}/{num_epochs} - Training loss: {train_loss:.4f}')\n",
        "      torch.cuda.empty_cache()\n",
        "      # Evaluate on the training set\n",
        "      train_eval_loss = evaluate(model_for_regression, train_dataloader, criterion)\n",
        "      print(f'Epoch {epoch+1}/{num_epochs} - Training Evaluation loss: {train_eval_loss:.4f}')\n",
        "\n",
        "      torch.cuda.empty_cache()\n",
        "\n",
        "      # Evaluate on the validation set\n",
        "      val_loss = evaluate(model_for_regression, val_dataloader, criterion)\n",
        "      print(f'Epoch {epoch+1}/{num_epochs} - Validation loss: {val_loss:.4f}')\n",
        "      torch.cuda.empty_cache()\n",
        "\n",
        "      logging.info(f'Epoch {epoch+1}/{num_epochs} - Training loss: {train_loss:.4f}')\n",
        "      logging.info(f'Epoch {epoch+1}/{num_epochs} - Training Evaluation loss: {train_eval_loss:.4f}')\n",
        "      logging.info(f'Epoch {epoch+1}/{num_epochs} - Validation loss: {val_loss:.4f}')"
      ],
      "metadata": {
        "colab": {
          "base_uri": "https://localhost:8080/"
        },
        "id": "xw0FOu91XFLK",
        "outputId": "27564e69-ed64-4bc7-ce9b-229a68cba5b2"
      },
      "execution_count": 77,
      "outputs": [
        {
          "output_type": "stream",
          "name": "stderr",
          "text": [
            "<ipython-input-60-8df6a44fe8b6>:19: UserWarning: To copy construct from a tensor, it is recommended to use sourceTensor.clone().detach() or sourceTensor.clone().detach().requires_grad_(True), rather than torch.tensor(sourceTensor).\n",
            "  item = {key: torch.tensor(val[idx]) for key, val in self.encodings.items()}\n",
            "/usr/local/lib/python3.10/dist-packages/torch/nn/modules/loss.py:535: UserWarning: Using a target size (torch.Size([2])) that is different to the input size (torch.Size([2, 1])). This will likely lead to incorrect results due to broadcasting. Please ensure they have the same size.\n",
            "  return F.mse_loss(input, target, reduction=self.reduction)\n"
          ]
        },
        {
          "output_type": "stream",
          "name": "stdout",
          "text": [
            "Epoch 1/2 - Training loss: 0.0297\n",
            "Epoch 1/2 - Training Evaluation loss: 0.0215\n",
            "Epoch 1/2 - Validation loss: 0.0149\n",
            "Epoch 2/2 - Training loss: 0.0318\n",
            "Epoch 2/2 - Training Evaluation loss: 0.0597\n",
            "Epoch 2/2 - Validation loss: 0.0549\n"
          ]
        }
      ]
    },
    {
      "cell_type": "code",
      "source": [
        "model_checkpoint_loaded = torch.load('train_checkpoint_epoch_2_step_200.pth.tar')"
      ],
      "metadata": {
        "id": "9Y4eNBg3Xrc7"
      },
      "execution_count": 78,
      "outputs": []
    },
    {
      "cell_type": "code",
      "source": [
        "type(model_loaded)"
      ],
      "metadata": {
        "colab": {
          "base_uri": "https://localhost:8080/"
        },
        "id": "nEcwL4_qtG8k",
        "outputId": "35a05c70-ae76-4824-8e5e-cad92227730b"
      },
      "execution_count": 79,
      "outputs": [
        {
          "output_type": "execute_result",
          "data": {
            "text/plain": [
              "dict"
            ]
          },
          "metadata": {},
          "execution_count": 79
        }
      ]
    },
    {
      "cell_type": "code",
      "source": [
        "model_for_regression.load_state_dict(model_loaded['state_dict'])"
      ],
      "metadata": {
        "colab": {
          "base_uri": "https://localhost:8080/"
        },
        "id": "lJ6X4YdMtaDy",
        "outputId": "bbc4ccc5-7bdd-442a-ab4a-3a53032753b9"
      },
      "execution_count": 83,
      "outputs": [
        {
          "output_type": "execute_result",
          "data": {
            "text/plain": [
              "<All keys matched successfully>"
            ]
          },
          "metadata": {},
          "execution_count": 83
        }
      ]
    },
    {
      "cell_type": "code",
      "source": [
        "optimizer.load_state_dict(model_loaded['optimizer'])"
      ],
      "metadata": {
        "id": "FbgePH6lthMC"
      },
      "execution_count": 84,
      "outputs": []
    },
    {
      "cell_type": "code",
      "source": [
        "model_for_regression.eval()  # Set the model to evaluation mode\n",
        "with torch.no_grad():  # Disable gradient calculation\n",
        "  for step, data in enumerate(val_dataloader):\n",
        "    inputs = data['input_ids']\n",
        "    labels = data['labels']\n",
        "\n",
        "    inputs = inputs.to(device)\n",
        "    labels = labels.to(device)\n",
        "\n",
        "    outputs = model_for_regression(inputs)\n",
        "    labels = labels.to(torch.float64)\n",
        "    outputs = outputs.to(torch.float64)\n",
        "    # loss = criterion(outputs, labels)\n",
        "    outputs = outputs.squeeze()\n",
        "\n",
        "    # print(f\"Step {step+1}:\")\n",
        "    # print(f\"Inputs:\\n\")\n",
        "    print((gpt2_tokenizer.batch_decode(inputs)))\n",
        "\n",
        "    print(\"Outputs:\\n\")\n",
        "    print(outputs)\n",
        "\n",
        "    print(f\"Labels:\\n\")\n",
        "    print(labels)\n",
        "\n",
        "    # print(\"Outputs decoded:\")\n",
        "    # print(gpt2_tokenizer.decode(outputs.argmax(dim=-1).cpu().numpy()))\n",
        "    if step >= 2:\n",
        "      break"
      ],
      "metadata": {
        "colab": {
          "base_uri": "https://localhost:8080/"
        },
        "id": "2VOgba3Ztxl-",
        "outputId": "d82a8bec-2e6e-459a-cc2f-e9a4c0008427"
      },
      "execution_count": 90,
      "outputs": [
        {
          "output_type": "stream",
          "name": "stderr",
          "text": [
            "<ipython-input-60-8df6a44fe8b6>:19: UserWarning: To copy construct from a tensor, it is recommended to use sourceTensor.clone().detach() or sourceTensor.clone().detach().requires_grad_(True), rather than torch.tensor(sourceTensor).\n",
            "  item = {key: torch.tensor(val[idx]) for key, val in self.encodings.items()}\n"
          ]
        },
        {
          "output_type": "stream",
          "name": "stdout",
          "text": [
            "[\"###Instruction:\\n  You are fixed income corporate bond trader. Use the feature values that I will provide and select the correct option for classifying the stress index (range of 0 to 1) into one of the defined buckets.\\n  Feature descriptions:\\n  - news_sentiment: Scale from -1 (negative) to +1 (positive) reflecting the sentiment in news about the bond issuer over the past 7 days.\\n  - broker_count_imbalance: Difference in broker count buying or selling the same security in the last 2 days, ranging from -1 (more selling) to +1 (more buying).\\n  - volume_indicator: Indicates if a bond is heavily traded in the last 2 days, with -1 for high selling volume and +1 for high buying volume.\\n  - benchmark_price_difference: Compares a bond's quoted price to the benchmark, ranging from -1 (below benchmark) to +1 (above benchmark), indicating price stress.\\n  - trade_count_imbalance: Difference in buy and sell trades of a security over 2 days, from -1 (more sells) to +1 (more buys).\\n  - one_sided_trade_indicator: Imbalance in buy or sell trades over 7 days, with -1 for predominantly sell trades and +1 for buy trades.\\n  - tranche_size_indicator: Assesses bond stress by the direction of trades and tranche size, ranging from 0 (large tranche) to 1 (small tranche).\\n  \\n  ###Input:\\n  Given the feature value dict as:\\n  {'news_sentiment': -0.09, 'broker_count_imbalance': 0.691, 'volume_indicator': 0.016, 'benchmark_price_difference': -0.137, 'trade_count_imbalance': -0.483, 'one_sided_trade_indicator': -0.025, 'tranche_size_indicator': 0.861}\\n  Return the stress index value as a number between 0 and 1.\\n  ###Response:\\n  <|endoftext|><|endoftext|><|endoftext|><|endoftext|>\", \"###Instruction:\\n  You are fixed income corporate bond trader. Use the feature values that I will provide and select the correct option for classifying the stress index (range of 0 to 1) into one of the defined buckets.\\n  Feature descriptions:\\n  - news_sentiment: Scale from -1 (negative) to +1 (positive) reflecting the sentiment in news about the bond issuer over the past 7 days.\\n  - broker_count_imbalance: Difference in broker count buying or selling the same security in the last 2 days, ranging from -1 (more selling) to +1 (more buying).\\n  - volume_indicator: Indicates if a bond is heavily traded in the last 2 days, with -1 for high selling volume and +1 for high buying volume.\\n  - benchmark_price_difference: Compares a bond's quoted price to the benchmark, ranging from -1 (below benchmark) to +1 (above benchmark), indicating price stress.\\n  - trade_count_imbalance: Difference in buy and sell trades of a security over 2 days, from -1 (more sells) to +1 (more buys).\\n  - one_sided_trade_indicator: Imbalance in buy or sell trades over 7 days, with -1 for predominantly sell trades and +1 for buy trades.\\n  - tranche_size_indicator: Assesses bond stress by the direction of trades and tranche size, ranging from 0 (large tranche) to 1 (small tranche).\\n  \\n  ###Input:\\n  Given the feature value dict as:\\n  {'news_sentiment': 0.03, 'broker_count_imbalance': 0.016, 'volume_indicator': -0.48, 'benchmark_price_difference': 0.369, 'trade_count_imbalance': 0.547, 'one_sided_trade_indicator': 0.202, 'tranche_size_indicator': 0.255}\\n  Return the stress index value as a number between 0 and 1.\\n  ###Response:\\n  <|endoftext|><|endoftext|><|endoftext|><|endoftext|><|endoftext|><|endoftext|><|endoftext|>\"]\n",
            "Outputs:\n",
            "\n",
            "tensor([0.6833, 0.6833], device='cuda:0', dtype=torch.float64)\n",
            "Labels:\n",
            "\n",
            "tensor([0.5280, 0.5420], device='cuda:0', dtype=torch.float64)\n",
            "[\"###Instruction:\\n  You are fixed income corporate bond trader. Use the feature values that I will provide and select the correct option for classifying the stress index (range of 0 to 1) into one of the defined buckets.\\n  Feature descriptions:\\n  - news_sentiment: Scale from -1 (negative) to +1 (positive) reflecting the sentiment in news about the bond issuer over the past 7 days.\\n  - broker_count_imbalance: Difference in broker count buying or selling the same security in the last 2 days, ranging from -1 (more selling) to +1 (more buying).\\n  - volume_indicator: Indicates if a bond is heavily traded in the last 2 days, with -1 for high selling volume and +1 for high buying volume.\\n  - benchmark_price_difference: Compares a bond's quoted price to the benchmark, ranging from -1 (below benchmark) to +1 (above benchmark), indicating price stress.\\n  - trade_count_imbalance: Difference in buy and sell trades of a security over 2 days, from -1 (more sells) to +1 (more buys).\\n  - one_sided_trade_indicator: Imbalance in buy or sell trades over 7 days, with -1 for predominantly sell trades and +1 for buy trades.\\n  - tranche_size_indicator: Assesses bond stress by the direction of trades and tranche size, ranging from 0 (large tranche) to 1 (small tranche).\\n  \\n  ###Input:\\n  Given the feature value dict as:\\n  {'news_sentiment': -0.19, 'broker_count_imbalance': 0.453, 'volume_indicator': 0.184, 'benchmark_price_difference': -0.719, 'trade_count_imbalance': 0.316, 'one_sided_trade_indicator': 0.332, 'tranche_size_indicator': 0.135}\\n  Return the stress index value as a number between 0 and 1.\\n  ###Response:\\n  <|endoftext|><|endoftext|><|endoftext|><|endoftext|><|endoftext|><|endoftext|>\", \"###Instruction:\\n  You are fixed income corporate bond trader. Use the feature values that I will provide and select the correct option for classifying the stress index (range of 0 to 1) into one of the defined buckets.\\n  Feature descriptions:\\n  - news_sentiment: Scale from -1 (negative) to +1 (positive) reflecting the sentiment in news about the bond issuer over the past 7 days.\\n  - broker_count_imbalance: Difference in broker count buying or selling the same security in the last 2 days, ranging from -1 (more selling) to +1 (more buying).\\n  - volume_indicator: Indicates if a bond is heavily traded in the last 2 days, with -1 for high selling volume and +1 for high buying volume.\\n  - benchmark_price_difference: Compares a bond's quoted price to the benchmark, ranging from -1 (below benchmark) to +1 (above benchmark), indicating price stress.\\n  - trade_count_imbalance: Difference in buy and sell trades of a security over 2 days, from -1 (more sells) to +1 (more buys).\\n  - one_sided_trade_indicator: Imbalance in buy or sell trades over 7 days, with -1 for predominantly sell trades and +1 for buy trades.\\n  - tranche_size_indicator: Assesses bond stress by the direction of trades and tranche size, ranging from 0 (large tranche) to 1 (small tranche).\\n  \\n  ###Input:\\n  Given the feature value dict as:\\n  {'news_sentiment': 0.022, 'broker_count_imbalance': -0.044, 'volume_indicator': -0.46, 'benchmark_price_difference': 0.48, 'trade_count_imbalance': 0.713, 'one_sided_trade_indicator': 0.153, 'tranche_size_indicator': 0.366}\\n  Return the stress index value as a number between 0 and 1.\\n  ###Response:\\n  <|endoftext|><|endoftext|><|endoftext|><|endoftext|><|endoftext|><|endoftext|><|endoftext|>\"]\n",
            "Outputs:\n",
            "\n",
            "tensor([0.6833, 0.6833], device='cuda:0', dtype=torch.float64)\n",
            "Labels:\n",
            "\n",
            "tensor([0.4870, 0.5790], device='cuda:0', dtype=torch.float64)\n",
            "[\"###Instruction:\\n  You are fixed income corporate bond trader. Use the feature values that I will provide and select the correct option for classifying the stress index (range of 0 to 1) into one of the defined buckets.\\n  Feature descriptions:\\n  - news_sentiment: Scale from -1 (negative) to +1 (positive) reflecting the sentiment in news about the bond issuer over the past 7 days.\\n  - broker_count_imbalance: Difference in broker count buying or selling the same security in the last 2 days, ranging from -1 (more selling) to +1 (more buying).\\n  - volume_indicator: Indicates if a bond is heavily traded in the last 2 days, with -1 for high selling volume and +1 for high buying volume.\\n  - benchmark_price_difference: Compares a bond's quoted price to the benchmark, ranging from -1 (below benchmark) to +1 (above benchmark), indicating price stress.\\n  - trade_count_imbalance: Difference in buy and sell trades of a security over 2 days, from -1 (more sells) to +1 (more buys).\\n  - one_sided_trade_indicator: Imbalance in buy or sell trades over 7 days, with -1 for predominantly sell trades and +1 for buy trades.\\n  - tranche_size_indicator: Assesses bond stress by the direction of trades and tranche size, ranging from 0 (large tranche) to 1 (small tranche).\\n  \\n  ###Input:\\n  Given the feature value dict as:\\n  {'news_sentiment': -0.153, 'broker_count_imbalance': 0.431, 'volume_indicator': 0.562, 'benchmark_price_difference': -0.654, 'trade_count_imbalance': -0.093, 'one_sided_trade_indicator': -0.547, 'tranche_size_indicator': 0.564}\\n  Return the stress index value as a number between 0 and 1.\\n  ###Response:\\n  <|endoftext|><|endoftext|>\", \"###Instruction:\\n  You are fixed income corporate bond trader. Use the feature values that I will provide and select the correct option for classifying the stress index (range of 0 to 1) into one of the defined buckets.\\n  Feature descriptions:\\n  - news_sentiment: Scale from -1 (negative) to +1 (positive) reflecting the sentiment in news about the bond issuer over the past 7 days.\\n  - broker_count_imbalance: Difference in broker count buying or selling the same security in the last 2 days, ranging from -1 (more selling) to +1 (more buying).\\n  - volume_indicator: Indicates if a bond is heavily traded in the last 2 days, with -1 for high selling volume and +1 for high buying volume.\\n  - benchmark_price_difference: Compares a bond's quoted price to the benchmark, ranging from -1 (below benchmark) to +1 (above benchmark), indicating price stress.\\n  - trade_count_imbalance: Difference in buy and sell trades of a security over 2 days, from -1 (more sells) to +1 (more buys).\\n  - one_sided_trade_indicator: Imbalance in buy or sell trades over 7 days, with -1 for predominantly sell trades and +1 for buy trades.\\n  - tranche_size_indicator: Assesses bond stress by the direction of trades and tranche size, ranging from 0 (large tranche) to 1 (small tranche).\\n  \\n  ###Input:\\n  Given the feature value dict as:\\n  {'news_sentiment': -0.018, 'broker_count_imbalance': -0.633, 'volume_indicator': 0.399, 'benchmark_price_difference': 0.066, 'trade_count_imbalance': 0.234, 'one_sided_trade_indicator': -0.429, 'tranche_size_indicator': 0.425}\\n  Return the stress index value as a number between 0 and 1.\\n  ###Response:\\n  <|endoftext|><|endoftext|><|endoftext|><|endoftext|>\"]\n",
            "Outputs:\n",
            "\n",
            "tensor([0.6833, 0.6833], device='cuda:0', dtype=torch.float64)\n",
            "Labels:\n",
            "\n",
            "tensor([0.4360, 0.4280], device='cuda:0', dtype=torch.float64)\n"
          ]
        }
      ]
    },
    {
      "cell_type": "code",
      "source": [],
      "metadata": {
        "id": "FSyoE4eDuZip"
      },
      "execution_count": null,
      "outputs": []
    }
  ]
}