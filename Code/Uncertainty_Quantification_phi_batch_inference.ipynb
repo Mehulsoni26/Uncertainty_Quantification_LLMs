{
  "nbformat": 4,
  "nbformat_minor": 0,
  "metadata": {
    "colab": {
      "provenance": [],
      "machine_shape": "hm",
      "gpuType": "V100",
      "authorship_tag": "ABX9TyNEznXwsLNsiyIuhQs81Ojr",
      "include_colab_link": true
    },
    "kernelspec": {
      "name": "python3",
      "display_name": "Python 3"
    },
    "language_info": {
      "name": "python"
    },
    "accelerator": "GPU",
    "widgets": {
      "application/vnd.jupyter.widget-state+json": {
        "4e28595f1b9d47e88194f02e502ede03": {
          "model_module": "@jupyter-widgets/controls",
          "model_name": "HBoxModel",
          "model_module_version": "1.5.0",
          "state": {
            "_dom_classes": [],
            "_model_module": "@jupyter-widgets/controls",
            "_model_module_version": "1.5.0",
            "_model_name": "HBoxModel",
            "_view_count": null,
            "_view_module": "@jupyter-widgets/controls",
            "_view_module_version": "1.5.0",
            "_view_name": "HBoxView",
            "box_style": "",
            "children": [
              "IPY_MODEL_d74af452061446eaa8bb373684a4742a",
              "IPY_MODEL_66ddd7f52fa64355b3228e6edb8ff51c",
              "IPY_MODEL_270e9014802e43ae8ec2a526f2a4ba3e"
            ],
            "layout": "IPY_MODEL_0b54d746d2a84d2788d13228565579bf"
          }
        },
        "d74af452061446eaa8bb373684a4742a": {
          "model_module": "@jupyter-widgets/controls",
          "model_name": "HTMLModel",
          "model_module_version": "1.5.0",
          "state": {
            "_dom_classes": [],
            "_model_module": "@jupyter-widgets/controls",
            "_model_module_version": "1.5.0",
            "_model_name": "HTMLModel",
            "_view_count": null,
            "_view_module": "@jupyter-widgets/controls",
            "_view_module_version": "1.5.0",
            "_view_name": "HTMLView",
            "description": "",
            "description_tooltip": null,
            "layout": "IPY_MODEL_d1e71f96da7842b3bff085471787d459",
            "placeholder": "​",
            "style": "IPY_MODEL_067e8289460b42d587c446a89443cc96",
            "value": "Loading checkpoint shards: 100%"
          }
        },
        "66ddd7f52fa64355b3228e6edb8ff51c": {
          "model_module": "@jupyter-widgets/controls",
          "model_name": "FloatProgressModel",
          "model_module_version": "1.5.0",
          "state": {
            "_dom_classes": [],
            "_model_module": "@jupyter-widgets/controls",
            "_model_module_version": "1.5.0",
            "_model_name": "FloatProgressModel",
            "_view_count": null,
            "_view_module": "@jupyter-widgets/controls",
            "_view_module_version": "1.5.0",
            "_view_name": "ProgressView",
            "bar_style": "success",
            "description": "",
            "description_tooltip": null,
            "layout": "IPY_MODEL_a6793a14978b4044af1e7b9dc672e322",
            "max": 2,
            "min": 0,
            "orientation": "horizontal",
            "style": "IPY_MODEL_c2fcbde8f2304e8e93a45006c52de016",
            "value": 2
          }
        },
        "270e9014802e43ae8ec2a526f2a4ba3e": {
          "model_module": "@jupyter-widgets/controls",
          "model_name": "HTMLModel",
          "model_module_version": "1.5.0",
          "state": {
            "_dom_classes": [],
            "_model_module": "@jupyter-widgets/controls",
            "_model_module_version": "1.5.0",
            "_model_name": "HTMLModel",
            "_view_count": null,
            "_view_module": "@jupyter-widgets/controls",
            "_view_module_version": "1.5.0",
            "_view_name": "HTMLView",
            "description": "",
            "description_tooltip": null,
            "layout": "IPY_MODEL_88c3380df62747a887d894d01e83835d",
            "placeholder": "​",
            "style": "IPY_MODEL_f86b44b86df44d0a862ead09f8b8653d",
            "value": " 2/2 [00:26&lt;00:00, 11.55s/it]"
          }
        },
        "0b54d746d2a84d2788d13228565579bf": {
          "model_module": "@jupyter-widgets/base",
          "model_name": "LayoutModel",
          "model_module_version": "1.2.0",
          "state": {
            "_model_module": "@jupyter-widgets/base",
            "_model_module_version": "1.2.0",
            "_model_name": "LayoutModel",
            "_view_count": null,
            "_view_module": "@jupyter-widgets/base",
            "_view_module_version": "1.2.0",
            "_view_name": "LayoutView",
            "align_content": null,
            "align_items": null,
            "align_self": null,
            "border": null,
            "bottom": null,
            "display": null,
            "flex": null,
            "flex_flow": null,
            "grid_area": null,
            "grid_auto_columns": null,
            "grid_auto_flow": null,
            "grid_auto_rows": null,
            "grid_column": null,
            "grid_gap": null,
            "grid_row": null,
            "grid_template_areas": null,
            "grid_template_columns": null,
            "grid_template_rows": null,
            "height": null,
            "justify_content": null,
            "justify_items": null,
            "left": null,
            "margin": null,
            "max_height": null,
            "max_width": null,
            "min_height": null,
            "min_width": null,
            "object_fit": null,
            "object_position": null,
            "order": null,
            "overflow": null,
            "overflow_x": null,
            "overflow_y": null,
            "padding": null,
            "right": null,
            "top": null,
            "visibility": null,
            "width": null
          }
        },
        "d1e71f96da7842b3bff085471787d459": {
          "model_module": "@jupyter-widgets/base",
          "model_name": "LayoutModel",
          "model_module_version": "1.2.0",
          "state": {
            "_model_module": "@jupyter-widgets/base",
            "_model_module_version": "1.2.0",
            "_model_name": "LayoutModel",
            "_view_count": null,
            "_view_module": "@jupyter-widgets/base",
            "_view_module_version": "1.2.0",
            "_view_name": "LayoutView",
            "align_content": null,
            "align_items": null,
            "align_self": null,
            "border": null,
            "bottom": null,
            "display": null,
            "flex": null,
            "flex_flow": null,
            "grid_area": null,
            "grid_auto_columns": null,
            "grid_auto_flow": null,
            "grid_auto_rows": null,
            "grid_column": null,
            "grid_gap": null,
            "grid_row": null,
            "grid_template_areas": null,
            "grid_template_columns": null,
            "grid_template_rows": null,
            "height": null,
            "justify_content": null,
            "justify_items": null,
            "left": null,
            "margin": null,
            "max_height": null,
            "max_width": null,
            "min_height": null,
            "min_width": null,
            "object_fit": null,
            "object_position": null,
            "order": null,
            "overflow": null,
            "overflow_x": null,
            "overflow_y": null,
            "padding": null,
            "right": null,
            "top": null,
            "visibility": null,
            "width": null
          }
        },
        "067e8289460b42d587c446a89443cc96": {
          "model_module": "@jupyter-widgets/controls",
          "model_name": "DescriptionStyleModel",
          "model_module_version": "1.5.0",
          "state": {
            "_model_module": "@jupyter-widgets/controls",
            "_model_module_version": "1.5.0",
            "_model_name": "DescriptionStyleModel",
            "_view_count": null,
            "_view_module": "@jupyter-widgets/base",
            "_view_module_version": "1.2.0",
            "_view_name": "StyleView",
            "description_width": ""
          }
        },
        "a6793a14978b4044af1e7b9dc672e322": {
          "model_module": "@jupyter-widgets/base",
          "model_name": "LayoutModel",
          "model_module_version": "1.2.0",
          "state": {
            "_model_module": "@jupyter-widgets/base",
            "_model_module_version": "1.2.0",
            "_model_name": "LayoutModel",
            "_view_count": null,
            "_view_module": "@jupyter-widgets/base",
            "_view_module_version": "1.2.0",
            "_view_name": "LayoutView",
            "align_content": null,
            "align_items": null,
            "align_self": null,
            "border": null,
            "bottom": null,
            "display": null,
            "flex": null,
            "flex_flow": null,
            "grid_area": null,
            "grid_auto_columns": null,
            "grid_auto_flow": null,
            "grid_auto_rows": null,
            "grid_column": null,
            "grid_gap": null,
            "grid_row": null,
            "grid_template_areas": null,
            "grid_template_columns": null,
            "grid_template_rows": null,
            "height": null,
            "justify_content": null,
            "justify_items": null,
            "left": null,
            "margin": null,
            "max_height": null,
            "max_width": null,
            "min_height": null,
            "min_width": null,
            "object_fit": null,
            "object_position": null,
            "order": null,
            "overflow": null,
            "overflow_x": null,
            "overflow_y": null,
            "padding": null,
            "right": null,
            "top": null,
            "visibility": null,
            "width": null
          }
        },
        "c2fcbde8f2304e8e93a45006c52de016": {
          "model_module": "@jupyter-widgets/controls",
          "model_name": "ProgressStyleModel",
          "model_module_version": "1.5.0",
          "state": {
            "_model_module": "@jupyter-widgets/controls",
            "_model_module_version": "1.5.0",
            "_model_name": "ProgressStyleModel",
            "_view_count": null,
            "_view_module": "@jupyter-widgets/base",
            "_view_module_version": "1.2.0",
            "_view_name": "StyleView",
            "bar_color": null,
            "description_width": ""
          }
        },
        "88c3380df62747a887d894d01e83835d": {
          "model_module": "@jupyter-widgets/base",
          "model_name": "LayoutModel",
          "model_module_version": "1.2.0",
          "state": {
            "_model_module": "@jupyter-widgets/base",
            "_model_module_version": "1.2.0",
            "_model_name": "LayoutModel",
            "_view_count": null,
            "_view_module": "@jupyter-widgets/base",
            "_view_module_version": "1.2.0",
            "_view_name": "LayoutView",
            "align_content": null,
            "align_items": null,
            "align_self": null,
            "border": null,
            "bottom": null,
            "display": null,
            "flex": null,
            "flex_flow": null,
            "grid_area": null,
            "grid_auto_columns": null,
            "grid_auto_flow": null,
            "grid_auto_rows": null,
            "grid_column": null,
            "grid_gap": null,
            "grid_row": null,
            "grid_template_areas": null,
            "grid_template_columns": null,
            "grid_template_rows": null,
            "height": null,
            "justify_content": null,
            "justify_items": null,
            "left": null,
            "margin": null,
            "max_height": null,
            "max_width": null,
            "min_height": null,
            "min_width": null,
            "object_fit": null,
            "object_position": null,
            "order": null,
            "overflow": null,
            "overflow_x": null,
            "overflow_y": null,
            "padding": null,
            "right": null,
            "top": null,
            "visibility": null,
            "width": null
          }
        },
        "f86b44b86df44d0a862ead09f8b8653d": {
          "model_module": "@jupyter-widgets/controls",
          "model_name": "DescriptionStyleModel",
          "model_module_version": "1.5.0",
          "state": {
            "_model_module": "@jupyter-widgets/controls",
            "_model_module_version": "1.5.0",
            "_model_name": "DescriptionStyleModel",
            "_view_count": null,
            "_view_module": "@jupyter-widgets/base",
            "_view_module_version": "1.2.0",
            "_view_name": "StyleView",
            "description_width": ""
          }
        },
        "9f2bdfd03b8d4896badabbdd23bfbbc8": {
          "model_module": "@jupyter-widgets/controls",
          "model_name": "HBoxModel",
          "model_module_version": "1.5.0",
          "state": {
            "_dom_classes": [],
            "_model_module": "@jupyter-widgets/controls",
            "_model_module_version": "1.5.0",
            "_model_name": "HBoxModel",
            "_view_count": null,
            "_view_module": "@jupyter-widgets/controls",
            "_view_module_version": "1.5.0",
            "_view_name": "HBoxView",
            "box_style": "",
            "children": [
              "IPY_MODEL_cda5b088b8744c118af27bafe3fbc88a",
              "IPY_MODEL_8e24e954453c4bb0bc0c1fac74651e6f",
              "IPY_MODEL_4b538b558a3340d687421eeba415e36a"
            ],
            "layout": "IPY_MODEL_50edda17cd7444eba6dd68a196b6f79d"
          }
        },
        "cda5b088b8744c118af27bafe3fbc88a": {
          "model_module": "@jupyter-widgets/controls",
          "model_name": "HTMLModel",
          "model_module_version": "1.5.0",
          "state": {
            "_dom_classes": [],
            "_model_module": "@jupyter-widgets/controls",
            "_model_module_version": "1.5.0",
            "_model_name": "HTMLModel",
            "_view_count": null,
            "_view_module": "@jupyter-widgets/controls",
            "_view_module_version": "1.5.0",
            "_view_name": "HTMLView",
            "description": "",
            "description_tooltip": null,
            "layout": "IPY_MODEL_f9f749df3ca84119b49ebb28b31e16c7",
            "placeholder": "​",
            "style": "IPY_MODEL_a347d82d680143e79c66fc2f5b48451a",
            "value": "Map: 100%"
          }
        },
        "8e24e954453c4bb0bc0c1fac74651e6f": {
          "model_module": "@jupyter-widgets/controls",
          "model_name": "FloatProgressModel",
          "model_module_version": "1.5.0",
          "state": {
            "_dom_classes": [],
            "_model_module": "@jupyter-widgets/controls",
            "_model_module_version": "1.5.0",
            "_model_name": "FloatProgressModel",
            "_view_count": null,
            "_view_module": "@jupyter-widgets/controls",
            "_view_module_version": "1.5.0",
            "_view_name": "ProgressView",
            "bar_style": "success",
            "description": "",
            "description_tooltip": null,
            "layout": "IPY_MODEL_ebc52a4b201644bc83641e7669955327",
            "max": 2000,
            "min": 0,
            "orientation": "horizontal",
            "style": "IPY_MODEL_da5781528c194a01acc5f38487b90a50",
            "value": 2000
          }
        },
        "4b538b558a3340d687421eeba415e36a": {
          "model_module": "@jupyter-widgets/controls",
          "model_name": "HTMLModel",
          "model_module_version": "1.5.0",
          "state": {
            "_dom_classes": [],
            "_model_module": "@jupyter-widgets/controls",
            "_model_module_version": "1.5.0",
            "_model_name": "HTMLModel",
            "_view_count": null,
            "_view_module": "@jupyter-widgets/controls",
            "_view_module_version": "1.5.0",
            "_view_name": "HTMLView",
            "description": "",
            "description_tooltip": null,
            "layout": "IPY_MODEL_2b144d44f97b4234854fdf29c8fd77da",
            "placeholder": "​",
            "style": "IPY_MODEL_daec8efbbdb949fdb6801c2f5ad54e9e",
            "value": " 2000/2000 [00:03&lt;00:00, 663.34 examples/s]"
          }
        },
        "50edda17cd7444eba6dd68a196b6f79d": {
          "model_module": "@jupyter-widgets/base",
          "model_name": "LayoutModel",
          "model_module_version": "1.2.0",
          "state": {
            "_model_module": "@jupyter-widgets/base",
            "_model_module_version": "1.2.0",
            "_model_name": "LayoutModel",
            "_view_count": null,
            "_view_module": "@jupyter-widgets/base",
            "_view_module_version": "1.2.0",
            "_view_name": "LayoutView",
            "align_content": null,
            "align_items": null,
            "align_self": null,
            "border": null,
            "bottom": null,
            "display": null,
            "flex": null,
            "flex_flow": null,
            "grid_area": null,
            "grid_auto_columns": null,
            "grid_auto_flow": null,
            "grid_auto_rows": null,
            "grid_column": null,
            "grid_gap": null,
            "grid_row": null,
            "grid_template_areas": null,
            "grid_template_columns": null,
            "grid_template_rows": null,
            "height": null,
            "justify_content": null,
            "justify_items": null,
            "left": null,
            "margin": null,
            "max_height": null,
            "max_width": null,
            "min_height": null,
            "min_width": null,
            "object_fit": null,
            "object_position": null,
            "order": null,
            "overflow": null,
            "overflow_x": null,
            "overflow_y": null,
            "padding": null,
            "right": null,
            "top": null,
            "visibility": null,
            "width": null
          }
        },
        "f9f749df3ca84119b49ebb28b31e16c7": {
          "model_module": "@jupyter-widgets/base",
          "model_name": "LayoutModel",
          "model_module_version": "1.2.0",
          "state": {
            "_model_module": "@jupyter-widgets/base",
            "_model_module_version": "1.2.0",
            "_model_name": "LayoutModel",
            "_view_count": null,
            "_view_module": "@jupyter-widgets/base",
            "_view_module_version": "1.2.0",
            "_view_name": "LayoutView",
            "align_content": null,
            "align_items": null,
            "align_self": null,
            "border": null,
            "bottom": null,
            "display": null,
            "flex": null,
            "flex_flow": null,
            "grid_area": null,
            "grid_auto_columns": null,
            "grid_auto_flow": null,
            "grid_auto_rows": null,
            "grid_column": null,
            "grid_gap": null,
            "grid_row": null,
            "grid_template_areas": null,
            "grid_template_columns": null,
            "grid_template_rows": null,
            "height": null,
            "justify_content": null,
            "justify_items": null,
            "left": null,
            "margin": null,
            "max_height": null,
            "max_width": null,
            "min_height": null,
            "min_width": null,
            "object_fit": null,
            "object_position": null,
            "order": null,
            "overflow": null,
            "overflow_x": null,
            "overflow_y": null,
            "padding": null,
            "right": null,
            "top": null,
            "visibility": null,
            "width": null
          }
        },
        "a347d82d680143e79c66fc2f5b48451a": {
          "model_module": "@jupyter-widgets/controls",
          "model_name": "DescriptionStyleModel",
          "model_module_version": "1.5.0",
          "state": {
            "_model_module": "@jupyter-widgets/controls",
            "_model_module_version": "1.5.0",
            "_model_name": "DescriptionStyleModel",
            "_view_count": null,
            "_view_module": "@jupyter-widgets/base",
            "_view_module_version": "1.2.0",
            "_view_name": "StyleView",
            "description_width": ""
          }
        },
        "ebc52a4b201644bc83641e7669955327": {
          "model_module": "@jupyter-widgets/base",
          "model_name": "LayoutModel",
          "model_module_version": "1.2.0",
          "state": {
            "_model_module": "@jupyter-widgets/base",
            "_model_module_version": "1.2.0",
            "_model_name": "LayoutModel",
            "_view_count": null,
            "_view_module": "@jupyter-widgets/base",
            "_view_module_version": "1.2.0",
            "_view_name": "LayoutView",
            "align_content": null,
            "align_items": null,
            "align_self": null,
            "border": null,
            "bottom": null,
            "display": null,
            "flex": null,
            "flex_flow": null,
            "grid_area": null,
            "grid_auto_columns": null,
            "grid_auto_flow": null,
            "grid_auto_rows": null,
            "grid_column": null,
            "grid_gap": null,
            "grid_row": null,
            "grid_template_areas": null,
            "grid_template_columns": null,
            "grid_template_rows": null,
            "height": null,
            "justify_content": null,
            "justify_items": null,
            "left": null,
            "margin": null,
            "max_height": null,
            "max_width": null,
            "min_height": null,
            "min_width": null,
            "object_fit": null,
            "object_position": null,
            "order": null,
            "overflow": null,
            "overflow_x": null,
            "overflow_y": null,
            "padding": null,
            "right": null,
            "top": null,
            "visibility": null,
            "width": null
          }
        },
        "da5781528c194a01acc5f38487b90a50": {
          "model_module": "@jupyter-widgets/controls",
          "model_name": "ProgressStyleModel",
          "model_module_version": "1.5.0",
          "state": {
            "_model_module": "@jupyter-widgets/controls",
            "_model_module_version": "1.5.0",
            "_model_name": "ProgressStyleModel",
            "_view_count": null,
            "_view_module": "@jupyter-widgets/base",
            "_view_module_version": "1.2.0",
            "_view_name": "StyleView",
            "bar_color": null,
            "description_width": ""
          }
        },
        "2b144d44f97b4234854fdf29c8fd77da": {
          "model_module": "@jupyter-widgets/base",
          "model_name": "LayoutModel",
          "model_module_version": "1.2.0",
          "state": {
            "_model_module": "@jupyter-widgets/base",
            "_model_module_version": "1.2.0",
            "_model_name": "LayoutModel",
            "_view_count": null,
            "_view_module": "@jupyter-widgets/base",
            "_view_module_version": "1.2.0",
            "_view_name": "LayoutView",
            "align_content": null,
            "align_items": null,
            "align_self": null,
            "border": null,
            "bottom": null,
            "display": null,
            "flex": null,
            "flex_flow": null,
            "grid_area": null,
            "grid_auto_columns": null,
            "grid_auto_flow": null,
            "grid_auto_rows": null,
            "grid_column": null,
            "grid_gap": null,
            "grid_row": null,
            "grid_template_areas": null,
            "grid_template_columns": null,
            "grid_template_rows": null,
            "height": null,
            "justify_content": null,
            "justify_items": null,
            "left": null,
            "margin": null,
            "max_height": null,
            "max_width": null,
            "min_height": null,
            "min_width": null,
            "object_fit": null,
            "object_position": null,
            "order": null,
            "overflow": null,
            "overflow_x": null,
            "overflow_y": null,
            "padding": null,
            "right": null,
            "top": null,
            "visibility": null,
            "width": null
          }
        },
        "daec8efbbdb949fdb6801c2f5ad54e9e": {
          "model_module": "@jupyter-widgets/controls",
          "model_name": "DescriptionStyleModel",
          "model_module_version": "1.5.0",
          "state": {
            "_model_module": "@jupyter-widgets/controls",
            "_model_module_version": "1.5.0",
            "_model_name": "DescriptionStyleModel",
            "_view_count": null,
            "_view_module": "@jupyter-widgets/base",
            "_view_module_version": "1.2.0",
            "_view_name": "StyleView",
            "description_width": ""
          }
        }
      }
    }
  },
  "cells": [
    {
      "cell_type": "markdown",
      "metadata": {
        "id": "view-in-github",
        "colab_type": "text"
      },
      "source": [
        "<a href=\"https://colab.research.google.com/github/Mehulsoni26/Uncertainty_Quantification_LLMs/blob/main/Code/Uncertainty_Quantification_phi_batch_inference.ipynb\" target=\"_parent\"><img src=\"https://colab.research.google.com/assets/colab-badge.svg\" alt=\"Open In Colab\"/></a>"
      ]
    },
    {
      "cell_type": "code",
      "execution_count": null,
      "metadata": {
        "colab": {
          "base_uri": "https://localhost:8080/"
        },
        "id": "W5yAtz8eyEnZ",
        "outputId": "66bbf791-f8d6-421c-a025-6613892c0c1d"
      },
      "outputs": [
        {
          "output_type": "stream",
          "name": "stdout",
          "text": [
            "Drive already mounted at /content/drive; to attempt to forcibly remount, call drive.mount(\"/content/drive\", force_remount=True).\n"
          ]
        }
      ],
      "source": [
        "from google.colab import drive\n",
        "drive.mount('/content/drive')"
      ]
    },
    {
      "cell_type": "code",
      "source": [
        "!ls"
      ],
      "metadata": {
        "colab": {
          "base_uri": "https://localhost:8080/"
        },
        "id": "MXWrv3a1yena",
        "outputId": "208b111f-e308-4302-c481-e42d45b74f1d"
      },
      "execution_count": null,
      "outputs": [
        {
          "output_type": "stream",
          "name": "stdout",
          "text": [
            "drive  sample_data\n"
          ]
        }
      ]
    },
    {
      "cell_type": "code",
      "source": [
        "import os\n",
        "dir_path = '/content/drive/MyDrive'\n",
        "os.chdir(dir_path)"
      ],
      "metadata": {
        "id": "Tp8W6EJSyN_1"
      },
      "execution_count": null,
      "outputs": []
    },
    {
      "cell_type": "code",
      "source": [
        "# !git clone https://github.com/Abhi23run/Uncertainty_Quantification_LLMs.git"
      ],
      "metadata": {
        "id": "HTfT_LeUybsS"
      },
      "execution_count": null,
      "outputs": []
    },
    {
      "cell_type": "code",
      "source": [
        "os.chdir(dir_path+'/Uncertainty_Quantification_LLMs')"
      ],
      "metadata": {
        "id": "wBQVhWEby39D"
      },
      "execution_count": null,
      "outputs": []
    },
    {
      "cell_type": "code",
      "source": [
        "%%capture\n",
        "!pip install -q -U bitsandbytes\n",
        "!pip install -q -U git+https://github.com/huggingface/transformers.git\n",
        "!pip install -q -U git+https://github.com/huggingface/peft.git\n",
        "!pip install -q -U git+https://github.com/huggingface/accelerate.git\n",
        "!pip install -q datasets\n",
        "!pip install evaluate\n",
        "!pip install -qqq trl==0.7.1\n",
        "!pip install torch"
      ],
      "metadata": {
        "id": "sWP4Y8oXy-Nj"
      },
      "execution_count": null,
      "outputs": []
    },
    {
      "cell_type": "code",
      "source": [
        "import torch\n",
        "import gc\n",
        "import time\n",
        "import evaluate\n",
        "import pandas as pd\n",
        "import numpy as np\n",
        "import scipy.stats as stats\n",
        "import matplotlib.pyplot as plt\n",
        "import seaborn as sns\n",
        "from datasets import Dataset, load_dataset\n",
        "import random\n",
        "from transformers import AutoTokenizer, AutoModelForCausalLM, BitsAndBytesConfig"
      ],
      "metadata": {
        "id": "kK9wqUhHy_2K"
      },
      "execution_count": null,
      "outputs": []
    },
    {
      "cell_type": "code",
      "source": [
        "df_stress_index = pd.read_csv('./Data/data_with_stress_index.csv',usecols=lambda col:col not in ['Unnamed: 0'])"
      ],
      "metadata": {
        "id": "98W_f9syzCRG"
      },
      "execution_count": null,
      "outputs": []
    },
    {
      "cell_type": "code",
      "source": [
        "n_bins = 10\n",
        "bin_width = 1/n_bins\n",
        "\n",
        "df_stress_index.loc[:,'stress_index_bucket']=pd.cut(df_stress_index['stress_index'],\\\n",
        "                                                    bins=n_bins,\\\n",
        "                                                    labels=[str(np.round(x,1))+'-'+str(np.round(x+bin_width,1)) \\\n",
        "                                                            for x in np.arange(0,1,bin_width)])"
      ],
      "metadata": {
        "id": "lFRC6sqbzFWv"
      },
      "execution_count": null,
      "outputs": []
    },
    {
      "cell_type": "code",
      "source": [
        "def shuffle_list(original_list):\n",
        "    # Create a copy of the list\n",
        "    shuffled_list = original_list.copy()\n",
        "\n",
        "    # Shuffle the copy\n",
        "    random.shuffle(shuffled_list)\n",
        "\n",
        "    return shuffled_list\n",
        "\n",
        "list_stress_index_bucket=[str(np.round(x,1))+'-'+str(np.round(x+bin_width,1)) for x in np.arange(0,1,bin_width)]\n",
        "list_option_choices=[chr(x) for x in range(65,65+len(list_stress_index_bucket))]"
      ],
      "metadata": {
        "id": "3zith6lpzVln"
      },
      "execution_count": null,
      "outputs": []
    },
    {
      "cell_type": "code",
      "source": [
        "import getpass\n",
        "\n",
        "# Prompt for the Hugging Face token\n",
        "hf_token = getpass.getpass(\"Enter your Hugging Face token: \")\n",
        "\n",
        "import os\n",
        "os.environ['HUGGINGFACE_TOKEN'] = hf_token"
      ],
      "metadata": {
        "colab": {
          "base_uri": "https://localhost:8080/"
        },
        "id": "ybxP-o4CzVs6",
        "outputId": "e1f1a100-5f85-48d2-e82d-2ba77c80cd6b"
      },
      "execution_count": null,
      "outputs": [
        {
          "name": "stdout",
          "output_type": "stream",
          "text": [
            "Enter your Hugging Face token: ··········\n"
          ]
        }
      ]
    },
    {
      "cell_type": "code",
      "source": [
        "# model_id =  \"NousResearch/Llama-2-7b-hf\"\n",
        "# model_id = \"meta-llama/Llama-2-7b-chat-hf\"\n",
        "# model_id = \"mistralai/Mistral-7B-v0.1\"\n",
        "model_id = \"microsoft/phi-2\"\n",
        "bnb_config = BitsAndBytesConfig(\n",
        "        load_in_4bit=True,\n",
        "        bnb_4bit_use_double_quant=True,\n",
        "        bnb_4bit_quant_type=\"nf4\",\n",
        "        bnb_4bit_compute_dtype=torch.bfloat16,\n",
        "    )\n",
        "# quantization_config = BitsAndBytesConfig(load_in_4bit=True)\n",
        "model = AutoModelForCausalLM.from_pretrained(model_id, quantization_config=bnb_config, device_map=\"auto\",token=hf_token)"
      ],
      "metadata": {
        "colab": {
          "base_uri": "https://localhost:8080/",
          "height": 49,
          "referenced_widgets": [
            "4e28595f1b9d47e88194f02e502ede03",
            "d74af452061446eaa8bb373684a4742a",
            "66ddd7f52fa64355b3228e6edb8ff51c",
            "270e9014802e43ae8ec2a526f2a4ba3e",
            "0b54d746d2a84d2788d13228565579bf",
            "d1e71f96da7842b3bff085471787d459",
            "067e8289460b42d587c446a89443cc96",
            "a6793a14978b4044af1e7b9dc672e322",
            "c2fcbde8f2304e8e93a45006c52de016",
            "88c3380df62747a887d894d01e83835d",
            "f86b44b86df44d0a862ead09f8b8653d"
          ]
        },
        "id": "BOGXVkI1zVvd",
        "outputId": "ac8a118a-7099-4bb7-ef97-1d4dc134c822"
      },
      "execution_count": null,
      "outputs": [
        {
          "output_type": "display_data",
          "data": {
            "text/plain": [
              "Loading checkpoint shards:   0%|          | 0/2 [00:00<?, ?it/s]"
            ],
            "application/vnd.jupyter.widget-view+json": {
              "version_major": 2,
              "version_minor": 0,
              "model_id": "4e28595f1b9d47e88194f02e502ede03"
            }
          },
          "metadata": {}
        }
      ]
    },
    {
      "cell_type": "code",
      "source": [
        "tokenizer = AutoTokenizer.from_pretrained(model_id,token=hf_token)\n",
        "tokenizer.pad_token = tokenizer.eos_token\n",
        "tokenizer.padding_side = \"right\""
      ],
      "metadata": {
        "colab": {
          "base_uri": "https://localhost:8080/"
        },
        "id": "Ff_VL30rz94L",
        "outputId": "0a15917a-fc74-4653-eaaf-09f0dc380f50"
      },
      "execution_count": null,
      "outputs": [
        {
          "output_type": "stream",
          "name": "stderr",
          "text": [
            "Special tokens have been added in the vocabulary, make sure the associated word embeddings are fine-tuned or trained.\n"
          ]
        }
      ]
    },
    {
      "cell_type": "code",
      "source": [
        "choice_prompt=''''''\n",
        "for i,j in zip(list_option_choices,shuffle_list(list_stress_index_bucket)):\n",
        "    choice_prompt+=f'({i}) {j}\\n'"
      ],
      "metadata": {
        "id": "lHTQFXoQz_iw"
      },
      "execution_count": null,
      "outputs": []
    },
    {
      "cell_type": "code",
      "source": [
        "def get_values_before_key(sorted_dict, key): ###updated the function to include the logits not including the true label\n",
        "    values_before_key = []\n",
        "    for k, v in sorted_dict.items():\n",
        "        if k == key:\n",
        "            # values_before_key.append(v)\n",
        "            break\n",
        "        values_before_key.append(v)\n",
        "    return values_before_key"
      ],
      "metadata": {
        "id": "dlJw_Jmv0iai"
      },
      "execution_count": null,
      "outputs": []
    },
    {
      "cell_type": "code",
      "source": [
        "##Softmax function to convert logits to probabilities\n",
        "def softmax(x):\n",
        "    e_x=np.exp(x-np.max(x))\n",
        "    return e_x/e_x.sum()"
      ],
      "metadata": {
        "id": "V4eTBO840oCK"
      },
      "execution_count": null,
      "outputs": []
    },
    {
      "cell_type": "code",
      "source": [
        "def lac(true_label, label_softmax_dict):\n",
        "    lac_score = 1.0 - label_softmax_dict[true_label]\n",
        "    return lac_score"
      ],
      "metadata": {
        "id": "empSXDrC0pYc"
      },
      "execution_count": null,
      "outputs": []
    },
    {
      "cell_type": "code",
      "source": [
        "def aps(true_label, label_softmax_dict):\n",
        "    sorted_softmax_dict = dict(sorted(label_to_softmax_dict.items(), key=lambda item: item[1], reverse=True))\n",
        "    high_labels = get_values_before_key(sorted_softmax_dict, true_label)\n",
        "    aps_score = sum(high_labels)\n",
        "    return aps_score"
      ],
      "metadata": {
        "id": "tK-oS_qm0rTm"
      },
      "execution_count": null,
      "outputs": []
    },
    {
      "cell_type": "code",
      "source": [
        "!ls"
      ],
      "metadata": {
        "colab": {
          "base_uri": "https://localhost:8080/"
        },
        "id": "cKEO1IE51DtA",
        "outputId": "58fe9827-d84a-4be5-ba2d-9b2132e6651e"
      },
      "execution_count": null,
      "outputs": [
        {
          "output_type": "stream",
          "name": "stdout",
          "text": [
            "Code  Data  output_logits.pkl  README.md\n"
          ]
        }
      ]
    },
    {
      "cell_type": "code",
      "source": [
        "df_stress_index_hf_prompt=pd.read_csv('/content/drive/MyDrive/Uncertainty_Quantification_LLMs/Data/df_stress_index_hf_prompt.csv',index_col=False,skiprows=[1]).head(2000)"
      ],
      "metadata": {
        "id": "XPimVDVZ0tm7"
      },
      "execution_count": null,
      "outputs": []
    },
    {
      "cell_type": "code",
      "source": [
        "data_splits = {'test': df_stress_index_hf_prompt}\n",
        "df_stress_index_hf_dataset = {split: Dataset.from_pandas(pd.DataFrame(df_stress_index_hf_prompt[['row_prompt','answer_label','stress_index_bucket']])) for split, data in data_splits.items()}\n",
        "df_stress_index_hf_dataset_inference=df_stress_index_hf_dataset['test']\n"
      ],
      "metadata": {
        "id": "9uwxUPiZ0v8q"
      },
      "execution_count": null,
      "outputs": []
    },
    {
      "cell_type": "code",
      "source": [
        "df_stress_index_hf_dataset_inference"
      ],
      "metadata": {
        "colab": {
          "base_uri": "https://localhost:8080/"
        },
        "id": "QHluBa-W1nUU",
        "outputId": "7c060694-6475-43fa-e70d-2b4127c1ecd5"
      },
      "execution_count": null,
      "outputs": [
        {
          "output_type": "execute_result",
          "data": {
            "text/plain": [
              "Dataset({\n",
              "    features: ['row_prompt', 'answer_label', 'stress_index_bucket'],\n",
              "    num_rows: 250\n",
              "})"
            ]
          },
          "metadata": {},
          "execution_count": 23
        }
      ]
    },
    {
      "cell_type": "code",
      "source": [
        "def process_batch(batch):\n",
        "    \"\"\"\n",
        "    Tokenizes a batch of text inputs.\n",
        "    Args:\n",
        "        batch: A dictionary with a key 'text' containing a list of text inputs.\n",
        "    Returns:\n",
        "        A dictionary with keys 'input_ids', 'attention_mask' (and possibly others like 'token_type_ids' depending on the tokenizer).\n",
        "    \"\"\"\n",
        "    # Tokenize the text inputs in the batch. This automatically applies padding and truncation.\n",
        "    # Adjust `padding` and `truncation` as needed.\n",
        "    tokenized_inputs = tokenizer(batch[\"row_prompt\"], padding=True, truncation=True, return_tensors=\"pt\")\n",
        "\n",
        "    return tokenized_inputs\n",
        "\n",
        "def test_data_collator(batch):\n",
        "  input_ids=torch.stack([example['input_ids'] for example in batch])\n",
        "  attention_mask=torch.stack([example['attention_mask'] for example in batch])\n",
        "\n",
        "  return {'input_ids':input_ids, 'attention_mask':attention_mask}"
      ],
      "metadata": {
        "id": "i0TkoMGr1U8f"
      },
      "execution_count": null,
      "outputs": []
    },
    {
      "cell_type": "code",
      "source": [
        "tokens_of_interest= list_option_choices #the option choices corresponding to stress index buckets\n",
        "\n",
        "token_indices = tokenizer.convert_tokens_to_ids(tokens_of_interest)"
      ],
      "metadata": {
        "id": "pyow7H3J7Pq1"
      },
      "execution_count": null,
      "outputs": []
    },
    {
      "cell_type": "code",
      "source": [
        "token_indices"
      ],
      "metadata": {
        "colab": {
          "base_uri": "https://localhost:8080/"
        },
        "id": "qJ60BE5s8u6r",
        "outputId": "87ac8b51-1336-419d-90c2-f64f30a458cb"
      },
      "execution_count": null,
      "outputs": [
        {
          "output_type": "execute_result",
          "data": {
            "text/plain": [
              "[32, 33, 34, 35, 36, 37, 38, 39, 40, 41]"
            ]
          },
          "metadata": {},
          "execution_count": 29
        }
      ]
    },
    {
      "cell_type": "code",
      "source": [
        "batch_size=4\n",
        "from torch.utils.data import DataLoader\n",
        "from tqdm import tqdm\n",
        "\n",
        "df_stress_index_hf_dataset_batched=df_stress_index_hf_dataset_inference.map(process_batch,batched=True,batch_size=batch_size)\n",
        "df_stress_index_hf_dataset_batched.set_format(type='torch')\n",
        "\n",
        "test_dataloader=DataLoader(\n",
        "    df_stress_index_hf_dataset_batched,\n",
        "    batch_size=batch_size,\n",
        "    collate_fn=test_data_collator\n",
        ")\n",
        "\n",
        "output_labels=[]\n",
        "for batch in tqdm(test_dataloader):\n",
        "  input_ids=batch['input_ids']\n",
        "  attention_mask=batch['attention_mask']\n",
        "\n",
        "\n",
        "  with torch.no_grad():\n",
        "    result=model(input_ids=input_ids,attention_mask=attention_mask,return_dict=True)\n",
        "    next_token_logits=result.logits.detach().cpu()[:,-1,:]\n",
        "    indices_in_logits = [{token: next_token_logits[i,token_idx].item() for token, token_idx in zip(tokens_of_interest, token_indices)} for i in range(next_token_logits.shape[0])]\n",
        "    label_to_softmax_dict=[dict(zip(tokens_of_interest,softmax(np.array(list(indices_in_logits[i].values()))))) for i in range(len(indices_in_logits))]\n",
        "    output_labels.append(label_to_softmax_dict)\n",
        "    del input_ids\n",
        "    del attention_mask\n",
        "    del result\n",
        "    gc.collect()\n",
        "    torch.cuda.empty_cache()"
      ],
      "metadata": {
        "colab": {
          "base_uri": "https://localhost:8080/",
          "height": 66,
          "referenced_widgets": [
            "9f2bdfd03b8d4896badabbdd23bfbbc8",
            "cda5b088b8744c118af27bafe3fbc88a",
            "8e24e954453c4bb0bc0c1fac74651e6f",
            "4b538b558a3340d687421eeba415e36a",
            "50edda17cd7444eba6dd68a196b6f79d",
            "f9f749df3ca84119b49ebb28b31e16c7",
            "a347d82d680143e79c66fc2f5b48451a",
            "ebc52a4b201644bc83641e7669955327",
            "da5781528c194a01acc5f38487b90a50",
            "2b144d44f97b4234854fdf29c8fd77da",
            "daec8efbbdb949fdb6801c2f5ad54e9e"
          ]
        },
        "id": "uqX6E4MY1WtD",
        "outputId": "4ade3990-dc98-41e4-de72-a5c964114a11"
      },
      "execution_count": null,
      "outputs": [
        {
          "data": {
            "application/vnd.jupyter.widget-view+json": {
              "model_id": "9f2bdfd03b8d4896badabbdd23bfbbc8",
              "version_major": 2,
              "version_minor": 0
            },
            "text/plain": [
              "Map:   0%|          | 0/2000 [00:00<?, ? examples/s]"
            ]
          },
          "metadata": {},
          "output_type": "display_data"
        },
        {
          "output_type": "stream",
          "name": "stderr",
          "text": [
            "100%|██████████| 500/500 [19:40<00:00,  2.36s/it]\n"
          ]
        }
      ]
    },
    {
      "cell_type": "code",
      "source": [
        "output_labels=[item for sublist in output_labels for item in sublist]"
      ],
      "metadata": {
        "id": "1HdbyCnoDiYo"
      },
      "execution_count": 40,
      "outputs": []
    },
    {
      "cell_type": "code",
      "source": [
        "import pickle\n",
        "with open('./output_labels.pkl','wb') as f:\n",
        "  pickle.dump(output_labels,f)"
      ],
      "metadata": {
        "id": "ejYyho2b1ZZ0"
      },
      "execution_count": 41,
      "outputs": []
    },
    {
      "cell_type": "code",
      "source": [
        "with open('./output_labels.pkl','rb') as f:\n",
        "  output_labels=pickle.load(f)"
      ],
      "metadata": {
        "id": "JIv6Vqnl4r1d"
      },
      "execution_count": 42,
      "outputs": []
    },
    {
      "cell_type": "code",
      "source": [
        "lac_score_list=[]\n",
        "aps_score_list=[]\n",
        "\n",
        "##First 1500 rows as calibration dataset\n",
        "for i,j in zip(output_labels[:1500],df_stress_index_hf_dataset_inference['answer_label'][:1500]):\n",
        "  lac_score_list.append(lac(j,i))\n",
        "  aps_score_list.append(aps(j,i))"
      ],
      "metadata": {
        "id": "IIv3yvLj43jo"
      },
      "execution_count": 58,
      "outputs": []
    },
    {
      "cell_type": "code",
      "source": [
        "with open('./lac_score_list.pkl','wb') as f:\n",
        "  pickle.dump(lac_score_list,f)\n",
        "\n",
        "with open('./aps_score_list.pkl','wb') as f:\n",
        "  pickle.dump(aps_score_list,f)"
      ],
      "metadata": {
        "id": "2xNrA7eOFVSq"
      },
      "execution_count": 59,
      "outputs": []
    },
    {
      "cell_type": "code",
      "source": [
        "with open('./lac_score_list.pkl','rb') as f:\n",
        "  lac_score_list=pickle.load(f)\n",
        "\n",
        "with open('./aps_score_list.pkl','rb') as f:\n",
        "  aps_score_list=pickle.load(f)"
      ],
      "metadata": {
        "id": "Xjm5XBsIFjjK"
      },
      "execution_count": 60,
      "outputs": []
    },
    {
      "cell_type": "code",
      "source": [
        "n=len(lac_score_list)\n",
        "\n",
        "# user specified error rate\n",
        "alpha=0.2\n",
        "import math\n",
        "\n",
        "def calculate_threshold(data,alpha):\n",
        "    sorted_data = sorted(data)\n",
        "    n = len(sorted_data)\n",
        "    percentile = math.ceil(((n + 1)*(1-alpha)))/(n)  # Subtracting 1 because list indices start at 0\n",
        "    # index = min(index, N - 1)  # Ensure the index does not exceed the last index of the list\n",
        "    return np.percentile(sorted_data, percentile*100)"
      ],
      "metadata": {
        "id": "Eg8uXZxeFl-j"
      },
      "execution_count": 85,
      "outputs": []
    },
    {
      "cell_type": "code",
      "source": [
        "lac_threshold=calculate_threshold(lac_score_list,alpha)"
      ],
      "metadata": {
        "id": "KREKbfl0G7CK"
      },
      "execution_count": 96,
      "outputs": []
    },
    {
      "cell_type": "code",
      "source": [
        "aps_threshold=calculate_threshold(aps_score_list,alpha)"
      ],
      "metadata": {
        "id": "L_pM_oE4G7kf"
      },
      "execution_count": 97,
      "outputs": []
    },
    {
      "cell_type": "code",
      "source": [
        "tokens_of_interest"
      ],
      "metadata": {
        "colab": {
          "base_uri": "https://localhost:8080/"
        },
        "id": "nTCQ4IPbMakr",
        "outputId": "2cdbce75-a376-46b6-9e48-43d33ea770c2"
      },
      "execution_count": 95,
      "outputs": [
        {
          "output_type": "execute_result",
          "data": {
            "text/plain": [
              "['A', 'B', 'C', 'D', 'E', 'F', 'G', 'H', 'I', 'J']"
            ]
          },
          "metadata": {},
          "execution_count": 95
        }
      ]
    },
    {
      "cell_type": "code",
      "source": [
        "predicion_set_lac=[]\n",
        "for i_test in (output_labels[1500:]):\n",
        "  predicion_set_i_lac=[]\n",
        "  for token in tokens_of_interest:\n",
        "    if lac(token,i_test)<=lac_threshold:\n",
        "      predicion_set_i_lac.append(token)\n",
        "  predicion_set_lac.append(predicion_set_i_lac)\n",
        "\n",
        "prediction_set_aps=[]\n",
        "\n",
        "for i_test in (output_labels[1500:]):\n",
        "  predicion_set_i_aps=[]\n",
        "  for token in tokens_of_interest:\n",
        "    if aps(token,i_test)<=aps_threshold:\n",
        "      predicion_set_i_aps.append(token)\n",
        "  prediction_set_aps.append(predicion_set_i_aps)"
      ],
      "metadata": {
        "id": "Y-L54NTHIVEa"
      },
      "execution_count": 104,
      "outputs": []
    },
    {
      "cell_type": "code",
      "source": [
        "with open('./predicion_set_lac.pkl','wb') as f:\n",
        "  pickle.dump(predicion_set_lac,f)\n",
        "\n",
        "with open('./predicion_set_aps.pkl','wb') as f:\n",
        "  pickle.dump(prediction_set_aps,f)"
      ],
      "metadata": {
        "id": "4MBLIWLrLPaQ"
      },
      "execution_count": 105,
      "outputs": []
    },
    {
      "cell_type": "code",
      "source": [
        "with open('./predicion_set_lac.pkl','rb') as f:\n",
        "  predicion_set_lac=pickle.load(f)\n",
        "\n",
        "with open('./predicion_set_aps.pkl','rb') as f:\n",
        "  prediction_set_aps=pickle.load(f)"
      ],
      "metadata": {
        "id": "NLj_AfouNiS_"
      },
      "execution_count": 106,
      "outputs": []
    },
    {
      "cell_type": "code",
      "source": [
        "predicion_set_lac[:10]"
      ],
      "metadata": {
        "colab": {
          "base_uri": "https://localhost:8080/"
        },
        "id": "06IMbeOvN7ck",
        "outputId": "fcb113a0-17a1-4a93-8e31-655189f61c19"
      },
      "execution_count": 107,
      "outputs": [
        {
          "output_type": "execute_result",
          "data": {
            "text/plain": [
              "[['A', 'B', 'C', 'D', 'E', 'F', 'H', 'I'],\n",
              " ['A', 'B', 'C', 'D', 'E', 'F', 'H', 'I'],\n",
              " ['A', 'B', 'C', 'D', 'E', 'F', 'G', 'I', 'J'],\n",
              " ['A', 'B', 'C', 'D', 'E', 'F', 'H', 'I'],\n",
              " ['A', 'B', 'C', 'D', 'E', 'F', 'H', 'I'],\n",
              " ['A', 'B', 'C', 'D', 'E', 'F', 'G', 'I', 'J'],\n",
              " ['A', 'B', 'C', 'D', 'E', 'H', 'I'],\n",
              " ['A', 'B', 'C', 'D', 'E', 'H', 'I'],\n",
              " ['A', 'B', 'C', 'D', 'E', 'F', 'G', 'I', 'J'],\n",
              " ['A', 'B', 'C', 'D', 'E', 'H', 'I']]"
            ]
          },
          "metadata": {},
          "execution_count": 107
        }
      ]
    },
    {
      "cell_type": "code",
      "source": [
        "prediction_set_aps[:10]"
      ],
      "metadata": {
        "colab": {
          "base_uri": "https://localhost:8080/"
        },
        "id": "RR9EMlyDODQ_",
        "outputId": "3cfe5242-c795-4f59-81ba-41b5a9ad1189"
      },
      "execution_count": 108,
      "outputs": [
        {
          "output_type": "execute_result",
          "data": {
            "text/plain": [
              "[['A', 'B', 'C', 'D', 'E', 'F', 'G', 'H', 'I'],\n",
              " ['A', 'B', 'C', 'D', 'E', 'F', 'G', 'H', 'I'],\n",
              " ['A', 'B', 'C', 'D', 'E', 'F', 'G', 'H', 'I'],\n",
              " ['A', 'B', 'C', 'D', 'E', 'F', 'G', 'H', 'I'],\n",
              " ['A', 'B', 'C', 'D', 'E', 'F', 'G', 'H', 'I'],\n",
              " ['A', 'B', 'C', 'D', 'E', 'F', 'G', 'H', 'I'],\n",
              " ['A', 'B', 'C', 'D', 'E', 'F', 'G', 'H', 'I'],\n",
              " ['A', 'B', 'C', 'D', 'E', 'F', 'G', 'H', 'I'],\n",
              " ['A', 'B', 'C', 'D', 'E', 'F', 'G', 'H', 'I'],\n",
              " ['A', 'B', 'C', 'D', 'E', 'F', 'G', 'H', 'I']]"
            ]
          },
          "metadata": {},
          "execution_count": 108
        }
      ]
    },
    {
      "cell_type": "code",
      "source": [],
      "metadata": {
        "id": "o_KBO8HEOJXg"
      },
      "execution_count": null,
      "outputs": []
    }
  ]
}